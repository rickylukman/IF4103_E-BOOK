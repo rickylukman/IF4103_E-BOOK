{
  "nbformat": 4,
  "nbformat_minor": 0,
  "metadata": {
    "colab": {
      "name": "Machine Learning - Clustering - Alvianda Ricky",
      "provenance": [],
      "collapsed_sections": [
        "dOlwh1L7kHXs",
        "0JC4Hdc2Ik7B",
        "RsI4mycfJJVt",
        "bqmxnR4LyG7L",
        "Y7PG_RXdkFIE",
        "t95Yf46chm5n"
      ],
      "authorship_tag": "ABX9TyNcnuWUACiz27blxFwVyhPg",
      "include_colab_link": true
    },
    "kernelspec": {
      "name": "python3",
      "display_name": "Python 3"
    }
  },
  "cells": [
    {
      "cell_type": "markdown",
      "metadata": {
        "id": "view-in-github",
        "colab_type": "text"
      },
      "source": [
        "<a href=\"https://colab.research.google.com/github/rickylukman/IF4103_E-BOOK/blob/master/Machine_Learning_Clustering_Alvianda_Ricky.ipynb\" target=\"_parent\"><img src=\"https://colab.research.google.com/assets/colab-badge.svg\" alt=\"Open In Colab\"/></a>"
      ]
    },
    {
      "cell_type": "markdown",
      "metadata": {
        "id": "dOlwh1L7kHXs",
        "colab_type": "text"
      },
      "source": [
        "# Import File dari gdrive"
      ]
    },
    {
      "cell_type": "code",
      "metadata": {
        "id": "V3647QU2Obta",
        "colab_type": "code",
        "outputId": "d1fb3314-ca8d-4384-a692-b35a005a5d60",
        "colab": {
          "base_uri": "https://localhost:8080/",
          "height": 34
        }
      },
      "source": [
        "from google.colab import drive\n",
        "drive.mount('/content/gdrive')"
      ],
      "execution_count": 143,
      "outputs": [
        {
          "output_type": "stream",
          "text": [
            "Drive already mounted at /content/gdrive; to attempt to forcibly remount, call drive.mount(\"/content/gdrive\", force_remount=True).\n"
          ],
          "name": "stdout"
        }
      ]
    },
    {
      "cell_type": "code",
      "metadata": {
        "id": "gFSMbTbTxGYm",
        "colab_type": "code",
        "outputId": "94bcafa6-0488-435d-cbab-3f26d61d257f",
        "colab": {
          "base_uri": "https://localhost:8080/",
          "height": 34
        }
      },
      "source": [
        "import pandas as pd\n",
        "\n",
        "#read data gdrive disimpan di variable df\n",
        "df=pd.read_csv('gdrive/My Drive/used_cars.csv')\n",
        "df.shape"
      ],
      "execution_count": 144,
      "outputs": [
        {
          "output_type": "execute_result",
          "data": {
            "text/plain": [
              "(20001, 26)"
            ]
          },
          "metadata": {
            "tags": []
          },
          "execution_count": 144
        }
      ]
    },
    {
      "cell_type": "code",
      "metadata": {
        "id": "CKorWFNtx0Ep",
        "colab_type": "code",
        "outputId": "3009f443-c969-46c4-cd7f-cd6b5854470e",
        "colab": {
          "base_uri": "https://localhost:8080/",
          "height": 530
        }
      },
      "source": [
        "df.head()"
      ],
      "execution_count": 145,
      "outputs": [
        {
          "output_type": "execute_result",
          "data": {
            "text/html": [
              "<div>\n",
              "<style scoped>\n",
              "    .dataframe tbody tr th:only-of-type {\n",
              "        vertical-align: middle;\n",
              "    }\n",
              "\n",
              "    .dataframe tbody tr th {\n",
              "        vertical-align: top;\n",
              "    }\n",
              "\n",
              "    .dataframe thead th {\n",
              "        text-align: right;\n",
              "    }\n",
              "</style>\n",
              "<table border=\"1\" class=\"dataframe\">\n",
              "  <thead>\n",
              "    <tr style=\"text-align: right;\">\n",
              "      <th></th>\n",
              "      <th>Unnamed: 0</th>\n",
              "      <th>id</th>\n",
              "      <th>url</th>\n",
              "      <th>region</th>\n",
              "      <th>region_url</th>\n",
              "      <th>price</th>\n",
              "      <th>year</th>\n",
              "      <th>manufacturer</th>\n",
              "      <th>model</th>\n",
              "      <th>condition</th>\n",
              "      <th>cylinders</th>\n",
              "      <th>fuel</th>\n",
              "      <th>odometer</th>\n",
              "      <th>title_status</th>\n",
              "      <th>transmission</th>\n",
              "      <th>vin</th>\n",
              "      <th>drive</th>\n",
              "      <th>size</th>\n",
              "      <th>type</th>\n",
              "      <th>paint_color</th>\n",
              "      <th>image_url</th>\n",
              "      <th>description</th>\n",
              "      <th>county</th>\n",
              "      <th>state</th>\n",
              "      <th>lat</th>\n",
              "      <th>long</th>\n",
              "    </tr>\n",
              "  </thead>\n",
              "  <tbody>\n",
              "    <tr>\n",
              "      <th>0</th>\n",
              "      <td>0</td>\n",
              "      <td>7034441763</td>\n",
              "      <td>https://saltlakecity.craigslist.org/cto/d/salt...</td>\n",
              "      <td>salt lake city</td>\n",
              "      <td>https://saltlakecity.craigslist.org</td>\n",
              "      <td>17899</td>\n",
              "      <td>2012.0</td>\n",
              "      <td>volkswagen</td>\n",
              "      <td>golf r</td>\n",
              "      <td>excellent</td>\n",
              "      <td>4 cylinders</td>\n",
              "      <td>gas</td>\n",
              "      <td>63500.0</td>\n",
              "      <td>clean</td>\n",
              "      <td>manual</td>\n",
              "      <td>WVWPF7AJ6CW316713</td>\n",
              "      <td>4wd</td>\n",
              "      <td>compact</td>\n",
              "      <td>hatchback</td>\n",
              "      <td>black</td>\n",
              "      <td>https://images.craigslist.org/00G0G_fTLDWM5Xyv...</td>\n",
              "      <td>PRICE REDUCED!   -Garage kept -Low Miles (63K)...</td>\n",
              "      <td>NaN</td>\n",
              "      <td>ut</td>\n",
              "      <td>40.7372</td>\n",
              "      <td>-111.858</td>\n",
              "    </tr>\n",
              "    <tr>\n",
              "      <th>1</th>\n",
              "      <td>1</td>\n",
              "      <td>7034440610</td>\n",
              "      <td>https://saltlakecity.craigslist.org/ctd/d/sand...</td>\n",
              "      <td>salt lake city</td>\n",
              "      <td>https://saltlakecity.craigslist.org</td>\n",
              "      <td>0</td>\n",
              "      <td>2016.0</td>\n",
              "      <td>ford</td>\n",
              "      <td>f-150</td>\n",
              "      <td>excellent</td>\n",
              "      <td>NaN</td>\n",
              "      <td>gas</td>\n",
              "      <td>10.0</td>\n",
              "      <td>clean</td>\n",
              "      <td>automatic</td>\n",
              "      <td>1FTMF1EP3GKF13544</td>\n",
              "      <td>4wd</td>\n",
              "      <td>NaN</td>\n",
              "      <td>NaN</td>\n",
              "      <td>NaN</td>\n",
              "      <td>https://images.craigslist.org/00v0v_7Cu0buIofU...</td>\n",
              "      <td>Drive it home today. Call (Or Text) us now !!C...</td>\n",
              "      <td>NaN</td>\n",
              "      <td>ut</td>\n",
              "      <td>40.5881</td>\n",
              "      <td>-111.884</td>\n",
              "    </tr>\n",
              "    <tr>\n",
              "      <th>2</th>\n",
              "      <td>2</td>\n",
              "      <td>7034440588</td>\n",
              "      <td>https://saltlakecity.craigslist.org/ctd/d/sand...</td>\n",
              "      <td>salt lake city</td>\n",
              "      <td>https://saltlakecity.craigslist.org</td>\n",
              "      <td>46463</td>\n",
              "      <td>2015.0</td>\n",
              "      <td>gmc</td>\n",
              "      <td>sierra 1500</td>\n",
              "      <td>excellent</td>\n",
              "      <td>NaN</td>\n",
              "      <td>gas</td>\n",
              "      <td>7554.0</td>\n",
              "      <td>clean</td>\n",
              "      <td>automatic</td>\n",
              "      <td>3GTU2WEC6FG228025</td>\n",
              "      <td>4wd</td>\n",
              "      <td>NaN</td>\n",
              "      <td>NaN</td>\n",
              "      <td>white</td>\n",
              "      <td>https://images.craigslist.org/01515_lPvJ9bfbdY...</td>\n",
              "      <td>Drive it home today. Call (Or Text) us now !!C...</td>\n",
              "      <td>NaN</td>\n",
              "      <td>ut</td>\n",
              "      <td>40.5881</td>\n",
              "      <td>-111.884</td>\n",
              "    </tr>\n",
              "    <tr>\n",
              "      <th>3</th>\n",
              "      <td>3</td>\n",
              "      <td>7034440546</td>\n",
              "      <td>https://saltlakecity.craigslist.org/ctd/d/sand...</td>\n",
              "      <td>salt lake city</td>\n",
              "      <td>https://saltlakecity.craigslist.org</td>\n",
              "      <td>0</td>\n",
              "      <td>2016.0</td>\n",
              "      <td>ford</td>\n",
              "      <td>f-150</td>\n",
              "      <td>excellent</td>\n",
              "      <td>NaN</td>\n",
              "      <td>gas</td>\n",
              "      <td>10.0</td>\n",
              "      <td>clean</td>\n",
              "      <td>automatic</td>\n",
              "      <td>1FTEX1EF6GKD25447</td>\n",
              "      <td>4wd</td>\n",
              "      <td>NaN</td>\n",
              "      <td>NaN</td>\n",
              "      <td>NaN</td>\n",
              "      <td>https://images.craigslist.org/00T0T_6Rjfp3NS4O...</td>\n",
              "      <td>Drive it home today. Call (Or Text) us now !!C...</td>\n",
              "      <td>NaN</td>\n",
              "      <td>ut</td>\n",
              "      <td>40.5881</td>\n",
              "      <td>-111.884</td>\n",
              "    </tr>\n",
              "    <tr>\n",
              "      <th>4</th>\n",
              "      <td>4</td>\n",
              "      <td>7034406932</td>\n",
              "      <td>https://saltlakecity.craigslist.org/ctd/d/evan...</td>\n",
              "      <td>salt lake city</td>\n",
              "      <td>https://saltlakecity.craigslist.org</td>\n",
              "      <td>49999</td>\n",
              "      <td>2018.0</td>\n",
              "      <td>ford</td>\n",
              "      <td>f-450</td>\n",
              "      <td>NaN</td>\n",
              "      <td>NaN</td>\n",
              "      <td>diesel</td>\n",
              "      <td>70150.0</td>\n",
              "      <td>clean</td>\n",
              "      <td>automatic</td>\n",
              "      <td>1FT8W4DT8GEA90427</td>\n",
              "      <td>4wd</td>\n",
              "      <td>NaN</td>\n",
              "      <td>pickup</td>\n",
              "      <td>white</td>\n",
              "      <td>https://images.craigslist.org/00W0W_8yIUwRBXXd...</td>\n",
              "      <td>2018 Ford F-350 F350 F 350 SD Lariat Crew Cab ...</td>\n",
              "      <td>NaN</td>\n",
              "      <td>ut</td>\n",
              "      <td>40.3744</td>\n",
              "      <td>-104.694</td>\n",
              "    </tr>\n",
              "  </tbody>\n",
              "</table>\n",
              "</div>"
            ],
            "text/plain": [
              "   Unnamed: 0          id  ...      lat     long\n",
              "0           0  7034441763  ...  40.7372 -111.858\n",
              "1           1  7034440610  ...  40.5881 -111.884\n",
              "2           2  7034440588  ...  40.5881 -111.884\n",
              "3           3  7034440546  ...  40.5881 -111.884\n",
              "4           4  7034406932  ...  40.3744 -104.694\n",
              "\n",
              "[5 rows x 26 columns]"
            ]
          },
          "metadata": {
            "tags": []
          },
          "execution_count": 145
        }
      ]
    },
    {
      "cell_type": "markdown",
      "metadata": {
        "id": "0JC4Hdc2Ik7B",
        "colab_type": "text"
      },
      "source": [
        "# Missing Value"
      ]
    },
    {
      "cell_type": "code",
      "metadata": {
        "id": "jIWBaajpIoOU",
        "colab_type": "code",
        "outputId": "7cbe66d6-58ef-4519-f056-cf302d499189",
        "colab": {
          "base_uri": "https://localhost:8080/",
          "height": 297
        }
      },
      "source": [
        "df.describe()"
      ],
      "execution_count": 146,
      "outputs": [
        {
          "output_type": "execute_result",
          "data": {
            "text/html": [
              "<div>\n",
              "<style scoped>\n",
              "    .dataframe tbody tr th:only-of-type {\n",
              "        vertical-align: middle;\n",
              "    }\n",
              "\n",
              "    .dataframe tbody tr th {\n",
              "        vertical-align: top;\n",
              "    }\n",
              "\n",
              "    .dataframe thead th {\n",
              "        text-align: right;\n",
              "    }\n",
              "</style>\n",
              "<table border=\"1\" class=\"dataframe\">\n",
              "  <thead>\n",
              "    <tr style=\"text-align: right;\">\n",
              "      <th></th>\n",
              "      <th>Unnamed: 0</th>\n",
              "      <th>id</th>\n",
              "      <th>price</th>\n",
              "      <th>year</th>\n",
              "      <th>odometer</th>\n",
              "      <th>county</th>\n",
              "      <th>lat</th>\n",
              "      <th>long</th>\n",
              "    </tr>\n",
              "  </thead>\n",
              "  <tbody>\n",
              "    <tr>\n",
              "      <th>count</th>\n",
              "      <td>20001.000000</td>\n",
              "      <td>2.000100e+04</td>\n",
              "      <td>2.000100e+04</td>\n",
              "      <td>19989.000000</td>\n",
              "      <td>1.761200e+04</td>\n",
              "      <td>0.0</td>\n",
              "      <td>18970.000000</td>\n",
              "      <td>18970.000000</td>\n",
              "    </tr>\n",
              "    <tr>\n",
              "      <th>mean</th>\n",
              "      <td>10000.000000</td>\n",
              "      <td>7.043199e+09</td>\n",
              "      <td>7.664058e+04</td>\n",
              "      <td>2009.830657</td>\n",
              "      <td>9.916435e+04</td>\n",
              "      <td>NaN</td>\n",
              "      <td>40.394737</td>\n",
              "      <td>-86.300395</td>\n",
              "    </tr>\n",
              "    <tr>\n",
              "      <th>std</th>\n",
              "      <td>5773.935703</td>\n",
              "      <td>4.668820e+06</td>\n",
              "      <td>8.335762e+06</td>\n",
              "      <td>7.913613</td>\n",
              "      <td>7.963487e+04</td>\n",
              "      <td>NaN</td>\n",
              "      <td>4.440290</td>\n",
              "      <td>18.219242</td>\n",
              "    </tr>\n",
              "    <tr>\n",
              "      <th>min</th>\n",
              "      <td>0.000000</td>\n",
              "      <td>7.032597e+09</td>\n",
              "      <td>0.000000e+00</td>\n",
              "      <td>1917.000000</td>\n",
              "      <td>0.000000e+00</td>\n",
              "      <td>NaN</td>\n",
              "      <td>-51.812200</td>\n",
              "      <td>-155.901000</td>\n",
              "    </tr>\n",
              "    <tr>\n",
              "      <th>25%</th>\n",
              "      <td>5000.000000</td>\n",
              "      <td>7.040114e+09</td>\n",
              "      <td>3.970000e+03</td>\n",
              "      <td>2007.000000</td>\n",
              "      <td>5.013300e+04</td>\n",
              "      <td>NaN</td>\n",
              "      <td>37.273700</td>\n",
              "      <td>-80.166800</td>\n",
              "    </tr>\n",
              "    <tr>\n",
              "      <th>50%</th>\n",
              "      <td>10000.000000</td>\n",
              "      <td>7.043866e+09</td>\n",
              "      <td>8.795000e+03</td>\n",
              "      <td>2011.000000</td>\n",
              "      <td>9.389900e+04</td>\n",
              "      <td>NaN</td>\n",
              "      <td>38.258600</td>\n",
              "      <td>-77.514200</td>\n",
              "    </tr>\n",
              "    <tr>\n",
              "      <th>75%</th>\n",
              "      <td>15000.000000</td>\n",
              "      <td>7.047065e+09</td>\n",
              "      <td>1.749500e+04</td>\n",
              "      <td>2015.000000</td>\n",
              "      <td>1.339090e+05</td>\n",
              "      <td>NaN</td>\n",
              "      <td>44.439500</td>\n",
              "      <td>-76.238400</td>\n",
              "    </tr>\n",
              "    <tr>\n",
              "      <th>max</th>\n",
              "      <td>20000.000000</td>\n",
              "      <td>7.050101e+09</td>\n",
              "      <td>1.172420e+09</td>\n",
              "      <td>2020.000000</td>\n",
              "      <td>2.500005e+06</td>\n",
              "      <td>NaN</td>\n",
              "      <td>59.746600</td>\n",
              "      <td>9.095700</td>\n",
              "    </tr>\n",
              "  </tbody>\n",
              "</table>\n",
              "</div>"
            ],
            "text/plain": [
              "         Unnamed: 0            id  ...           lat          long\n",
              "count  20001.000000  2.000100e+04  ...  18970.000000  18970.000000\n",
              "mean   10000.000000  7.043199e+09  ...     40.394737    -86.300395\n",
              "std     5773.935703  4.668820e+06  ...      4.440290     18.219242\n",
              "min        0.000000  7.032597e+09  ...    -51.812200   -155.901000\n",
              "25%     5000.000000  7.040114e+09  ...     37.273700    -80.166800\n",
              "50%    10000.000000  7.043866e+09  ...     38.258600    -77.514200\n",
              "75%    15000.000000  7.047065e+09  ...     44.439500    -76.238400\n",
              "max    20000.000000  7.050101e+09  ...     59.746600      9.095700\n",
              "\n",
              "[8 rows x 8 columns]"
            ]
          },
          "metadata": {
            "tags": []
          },
          "execution_count": 146
        }
      ]
    },
    {
      "cell_type": "code",
      "metadata": {
        "id": "vMQUJSSMKWgP",
        "colab_type": "code",
        "outputId": "34b4c185-1dbb-46e7-f698-f3ab8b4ad644",
        "colab": {
          "base_uri": "https://localhost:8080/",
          "height": 377
        }
      },
      "source": [
        "import seaborn as sns\n",
        "ax = sns.heatmap(df.isna())"
      ],
      "execution_count": 147,
      "outputs": [
        {
          "output_type": "stream",
          "text": [
            "/usr/local/lib/python3.6/dist-packages/statsmodels/tools/_testing.py:19: FutureWarning: pandas.util.testing is deprecated. Use the functions in the public API at pandas.testing instead.\n",
            "  import pandas.util.testing as tm\n"
          ],
          "name": "stderr"
        },
        {
          "output_type": "display_data",
          "data": {
            "image/png": "[encoded data removed]",
            "text/plain": [
              "<Figure size 432x288 with 2 Axes>"
            ]
          },
          "metadata": {
            "tags": [],
            "needs_background": "light"
          }
        }
      ]
    },
    {
      "cell_type": "code",
      "metadata": {
        "id": "R1cbxWt7fCMU",
        "colab_type": "code",
        "outputId": "c5c3d2d6-3d3e-41f9-cb7d-c53b275fc695",
        "colab": {
          "base_uri": "https://localhost:8080/",
          "height": 476
        }
      },
      "source": [
        "# Melihat jumlah data setiap kolom\n",
        "print(df.isnull().sum())"
      ],
      "execution_count": 148,
      "outputs": [
        {
          "output_type": "stream",
          "text": [
            "Unnamed: 0          0\n",
            "id                  0\n",
            "url                 0\n",
            "region              0\n",
            "region_url          0\n",
            "price               0\n",
            "year               12\n",
            "manufacturer      705\n",
            "model             265\n",
            "condition        9152\n",
            "cylinders        7085\n",
            "fuel               73\n",
            "odometer         2389\n",
            "title_status      110\n",
            "transmission      190\n",
            "vin              6645\n",
            "drive            4642\n",
            "size            13115\n",
            "type             3659\n",
            "paint_color      5514\n",
            "image_url           0\n",
            "description         0\n",
            "county          20001\n",
            "state               0\n",
            "lat              1031\n",
            "long             1031\n",
            "dtype: int64\n"
          ],
          "name": "stdout"
        }
      ]
    },
    {
      "cell_type": "markdown",
      "metadata": {
        "id": "1CqiJ7uKq4Wo",
        "colab_type": "text"
      },
      "source": [
        "**Menghapus kolom yang tidak diperlukan**"
      ]
    },
    {
      "cell_type": "code",
      "metadata": {
        "id": "PUyx5OzNzsJB",
        "colab_type": "code",
        "colab": {}
      },
      "source": [
        "df = df.drop([\"Unnamed: 0\",\"id\",\"url\", \"region\",\"region_url\",\"cylinders\",\"odometer\",\"vin\",\"size\",\"type\",\"image_url\",\"description\",\"county\",\"lat\",\"long\"], axis = 1)"
      ],
      "execution_count": 0,
      "outputs": []
    },
    {
      "cell_type": "code",
      "metadata": {
        "id": "395V1mzF563T",
        "colab_type": "code",
        "outputId": "c492d3b4-9f7b-427e-8705-932a4e5129bc",
        "colab": {
          "base_uri": "https://localhost:8080/",
          "height": 34
        }
      },
      "source": [
        "df.shape"
      ],
      "execution_count": 150,
      "outputs": [
        {
          "output_type": "execute_result",
          "data": {
            "text/plain": [
              "(20001, 11)"
            ]
          },
          "metadata": {
            "tags": []
          },
          "execution_count": 150
        }
      ]
    },
    {
      "cell_type": "code",
      "metadata": {
        "id": "UaDd4lmX54C-",
        "colab_type": "code",
        "outputId": "1d4f0e51-ef98-42dc-8e9d-5cfd3d6ce97b",
        "colab": {
          "base_uri": "https://localhost:8080/",
          "height": 204
        }
      },
      "source": [
        "df.head()"
      ],
      "execution_count": 151,
      "outputs": [
        {
          "output_type": "execute_result",
          "data": {
            "text/html": [
              "<div>\n",
              "<style scoped>\n",
              "    .dataframe tbody tr th:only-of-type {\n",
              "        vertical-align: middle;\n",
              "    }\n",
              "\n",
              "    .dataframe tbody tr th {\n",
              "        vertical-align: top;\n",
              "    }\n",
              "\n",
              "    .dataframe thead th {\n",
              "        text-align: right;\n",
              "    }\n",
              "</style>\n",
              "<table border=\"1\" class=\"dataframe\">\n",
              "  <thead>\n",
              "    <tr style=\"text-align: right;\">\n",
              "      <th></th>\n",
              "      <th>price</th>\n",
              "      <th>year</th>\n",
              "      <th>manufacturer</th>\n",
              "      <th>model</th>\n",
              "      <th>condition</th>\n",
              "      <th>fuel</th>\n",
              "      <th>title_status</th>\n",
              "      <th>transmission</th>\n",
              "      <th>drive</th>\n",
              "      <th>paint_color</th>\n",
              "      <th>state</th>\n",
              "    </tr>\n",
              "  </thead>\n",
              "  <tbody>\n",
              "    <tr>\n",
              "      <th>0</th>\n",
              "      <td>17899</td>\n",
              "      <td>2012.0</td>\n",
              "      <td>volkswagen</td>\n",
              "      <td>golf r</td>\n",
              "      <td>excellent</td>\n",
              "      <td>gas</td>\n",
              "      <td>clean</td>\n",
              "      <td>manual</td>\n",
              "      <td>4wd</td>\n",
              "      <td>black</td>\n",
              "      <td>ut</td>\n",
              "    </tr>\n",
              "    <tr>\n",
              "      <th>1</th>\n",
              "      <td>0</td>\n",
              "      <td>2016.0</td>\n",
              "      <td>ford</td>\n",
              "      <td>f-150</td>\n",
              "      <td>excellent</td>\n",
              "      <td>gas</td>\n",
              "      <td>clean</td>\n",
              "      <td>automatic</td>\n",
              "      <td>4wd</td>\n",
              "      <td>NaN</td>\n",
              "      <td>ut</td>\n",
              "    </tr>\n",
              "    <tr>\n",
              "      <th>2</th>\n",
              "      <td>46463</td>\n",
              "      <td>2015.0</td>\n",
              "      <td>gmc</td>\n",
              "      <td>sierra 1500</td>\n",
              "      <td>excellent</td>\n",
              "      <td>gas</td>\n",
              "      <td>clean</td>\n",
              "      <td>automatic</td>\n",
              "      <td>4wd</td>\n",
              "      <td>white</td>\n",
              "      <td>ut</td>\n",
              "    </tr>\n",
              "    <tr>\n",
              "      <th>3</th>\n",
              "      <td>0</td>\n",
              "      <td>2016.0</td>\n",
              "      <td>ford</td>\n",
              "      <td>f-150</td>\n",
              "      <td>excellent</td>\n",
              "      <td>gas</td>\n",
              "      <td>clean</td>\n",
              "      <td>automatic</td>\n",
              "      <td>4wd</td>\n",
              "      <td>NaN</td>\n",
              "      <td>ut</td>\n",
              "    </tr>\n",
              "    <tr>\n",
              "      <th>4</th>\n",
              "      <td>49999</td>\n",
              "      <td>2018.0</td>\n",
              "      <td>ford</td>\n",
              "      <td>f-450</td>\n",
              "      <td>NaN</td>\n",
              "      <td>diesel</td>\n",
              "      <td>clean</td>\n",
              "      <td>automatic</td>\n",
              "      <td>4wd</td>\n",
              "      <td>white</td>\n",
              "      <td>ut</td>\n",
              "    </tr>\n",
              "  </tbody>\n",
              "</table>\n",
              "</div>"
            ],
            "text/plain": [
              "   price    year manufacturer        model  ... transmission drive paint_color state\n",
              "0  17899  2012.0   volkswagen       golf r  ...       manual   4wd       black    ut\n",
              "1      0  2016.0         ford        f-150  ...    automatic   4wd         NaN    ut\n",
              "2  46463  2015.0          gmc  sierra 1500  ...    automatic   4wd       white    ut\n",
              "3      0  2016.0         ford        f-150  ...    automatic   4wd         NaN    ut\n",
              "4  49999  2018.0         ford        f-450  ...    automatic   4wd       white    ut\n",
              "\n",
              "[5 rows x 11 columns]"
            ]
          },
          "metadata": {
            "tags": []
          },
          "execution_count": 151
        }
      ]
    },
    {
      "cell_type": "markdown",
      "metadata": {
        "id": "BwfTDfxlX3MA",
        "colab_type": "text"
      },
      "source": [
        "**Cek data kosong/null**"
      ]
    },
    {
      "cell_type": "code",
      "metadata": {
        "id": "qJBZMf0uW72r",
        "colab_type": "code",
        "outputId": "15316c8d-12ba-42a5-e8c6-6395df87ead0",
        "colab": {
          "base_uri": "https://localhost:8080/",
          "height": 419
        }
      },
      "source": [
        "df[df.isnull().any(axis=1)]"
      ],
      "execution_count": 152,
      "outputs": [
        {
          "output_type": "execute_result",
          "data": {
            "text/html": [
              "<div>\n",
              "<style scoped>\n",
              "    .dataframe tbody tr th:only-of-type {\n",
              "        vertical-align: middle;\n",
              "    }\n",
              "\n",
              "    .dataframe tbody tr th {\n",
              "        vertical-align: top;\n",
              "    }\n",
              "\n",
              "    .dataframe thead th {\n",
              "        text-align: right;\n",
              "    }\n",
              "</style>\n",
              "<table border=\"1\" class=\"dataframe\">\n",
              "  <thead>\n",
              "    <tr style=\"text-align: right;\">\n",
              "      <th></th>\n",
              "      <th>price</th>\n",
              "      <th>year</th>\n",
              "      <th>manufacturer</th>\n",
              "      <th>model</th>\n",
              "      <th>condition</th>\n",
              "      <th>fuel</th>\n",
              "      <th>title_status</th>\n",
              "      <th>transmission</th>\n",
              "      <th>drive</th>\n",
              "      <th>paint_color</th>\n",
              "      <th>state</th>\n",
              "    </tr>\n",
              "  </thead>\n",
              "  <tbody>\n",
              "    <tr>\n",
              "      <th>1</th>\n",
              "      <td>0</td>\n",
              "      <td>2016.0</td>\n",
              "      <td>ford</td>\n",
              "      <td>f-150</td>\n",
              "      <td>excellent</td>\n",
              "      <td>gas</td>\n",
              "      <td>clean</td>\n",
              "      <td>automatic</td>\n",
              "      <td>4wd</td>\n",
              "      <td>NaN</td>\n",
              "      <td>ut</td>\n",
              "    </tr>\n",
              "    <tr>\n",
              "      <th>3</th>\n",
              "      <td>0</td>\n",
              "      <td>2016.0</td>\n",
              "      <td>ford</td>\n",
              "      <td>f-150</td>\n",
              "      <td>excellent</td>\n",
              "      <td>gas</td>\n",
              "      <td>clean</td>\n",
              "      <td>automatic</td>\n",
              "      <td>4wd</td>\n",
              "      <td>NaN</td>\n",
              "      <td>ut</td>\n",
              "    </tr>\n",
              "    <tr>\n",
              "      <th>4</th>\n",
              "      <td>49999</td>\n",
              "      <td>2018.0</td>\n",
              "      <td>ford</td>\n",
              "      <td>f-450</td>\n",
              "      <td>NaN</td>\n",
              "      <td>diesel</td>\n",
              "      <td>clean</td>\n",
              "      <td>automatic</td>\n",
              "      <td>4wd</td>\n",
              "      <td>white</td>\n",
              "      <td>ut</td>\n",
              "    </tr>\n",
              "    <tr>\n",
              "      <th>5</th>\n",
              "      <td>13999</td>\n",
              "      <td>2009.0</td>\n",
              "      <td>ram</td>\n",
              "      <td>NaN</td>\n",
              "      <td>NaN</td>\n",
              "      <td>gas</td>\n",
              "      <td>clean</td>\n",
              "      <td>automatic</td>\n",
              "      <td>4wd</td>\n",
              "      <td>silver</td>\n",
              "      <td>ut</td>\n",
              "    </tr>\n",
              "    <tr>\n",
              "      <th>6</th>\n",
              "      <td>34500</td>\n",
              "      <td>2017.0</td>\n",
              "      <td>ford</td>\n",
              "      <td>f-350</td>\n",
              "      <td>NaN</td>\n",
              "      <td>diesel</td>\n",
              "      <td>clean</td>\n",
              "      <td>automatic</td>\n",
              "      <td>4wd</td>\n",
              "      <td>white</td>\n",
              "      <td>ut</td>\n",
              "    </tr>\n",
              "    <tr>\n",
              "      <th>...</th>\n",
              "      <td>...</td>\n",
              "      <td>...</td>\n",
              "      <td>...</td>\n",
              "      <td>...</td>\n",
              "      <td>...</td>\n",
              "      <td>...</td>\n",
              "      <td>...</td>\n",
              "      <td>...</td>\n",
              "      <td>...</td>\n",
              "      <td>...</td>\n",
              "      <td>...</td>\n",
              "    </tr>\n",
              "    <tr>\n",
              "      <th>19996</th>\n",
              "      <td>49999</td>\n",
              "      <td>2016.0</td>\n",
              "      <td>ram</td>\n",
              "      <td>cummin 2500 laramie</td>\n",
              "      <td>NaN</td>\n",
              "      <td>diesel</td>\n",
              "      <td>clean</td>\n",
              "      <td>automatic</td>\n",
              "      <td>4wd</td>\n",
              "      <td>grey</td>\n",
              "      <td>wa</td>\n",
              "    </tr>\n",
              "    <tr>\n",
              "      <th>19997</th>\n",
              "      <td>12127</td>\n",
              "      <td>2018.0</td>\n",
              "      <td>nissan</td>\n",
              "      <td>sentra</td>\n",
              "      <td>NaN</td>\n",
              "      <td>gas</td>\n",
              "      <td>clean</td>\n",
              "      <td>automatic</td>\n",
              "      <td>fwd</td>\n",
              "      <td>NaN</td>\n",
              "      <td>wa</td>\n",
              "    </tr>\n",
              "    <tr>\n",
              "      <th>19998</th>\n",
              "      <td>0</td>\n",
              "      <td>2019.0</td>\n",
              "      <td>jeep</td>\n",
              "      <td>grand cherokee limited</td>\n",
              "      <td>NaN</td>\n",
              "      <td>gas</td>\n",
              "      <td>clean</td>\n",
              "      <td>automatic</td>\n",
              "      <td>4wd</td>\n",
              "      <td>NaN</td>\n",
              "      <td>wa</td>\n",
              "    </tr>\n",
              "    <tr>\n",
              "      <th>19999</th>\n",
              "      <td>14661</td>\n",
              "      <td>2017.0</td>\n",
              "      <td>toyota</td>\n",
              "      <td>corolla</td>\n",
              "      <td>NaN</td>\n",
              "      <td>gas</td>\n",
              "      <td>clean</td>\n",
              "      <td>automatic</td>\n",
              "      <td>fwd</td>\n",
              "      <td>NaN</td>\n",
              "      <td>wa</td>\n",
              "    </tr>\n",
              "    <tr>\n",
              "      <th>20000</th>\n",
              "      <td>35999</td>\n",
              "      <td>2019.0</td>\n",
              "      <td>toyota</td>\n",
              "      <td>4runner sr5 4x4 gas suv</td>\n",
              "      <td>NaN</td>\n",
              "      <td>gas</td>\n",
              "      <td>clean</td>\n",
              "      <td>automatic</td>\n",
              "      <td>4wd</td>\n",
              "      <td>black</td>\n",
              "      <td>wa</td>\n",
              "    </tr>\n",
              "  </tbody>\n",
              "</table>\n",
              "<p>12567 rows × 11 columns</p>\n",
              "</div>"
            ],
            "text/plain": [
              "       price    year manufacturer  ... drive paint_color state\n",
              "1          0  2016.0         ford  ...   4wd         NaN    ut\n",
              "3          0  2016.0         ford  ...   4wd         NaN    ut\n",
              "4      49999  2018.0         ford  ...   4wd       white    ut\n",
              "5      13999  2009.0          ram  ...   4wd      silver    ut\n",
              "6      34500  2017.0         ford  ...   4wd       white    ut\n",
              "...      ...     ...          ...  ...   ...         ...   ...\n",
              "19996  49999  2016.0          ram  ...   4wd        grey    wa\n",
              "19997  12127  2018.0       nissan  ...   fwd         NaN    wa\n",
              "19998      0  2019.0         jeep  ...   4wd         NaN    wa\n",
              "19999  14661  2017.0       toyota  ...   fwd         NaN    wa\n",
              "20000  35999  2019.0       toyota  ...   4wd       black    wa\n",
              "\n",
              "[12567 rows x 11 columns]"
            ]
          },
          "metadata": {
            "tags": []
          },
          "execution_count": 152
        }
      ]
    },
    {
      "cell_type": "code",
      "metadata": {
        "id": "biXOP8MZcX7w",
        "colab_type": "code",
        "outputId": "78bca0bf-d92c-402d-d6fe-e49e3a034b6a",
        "colab": {
          "base_uri": "https://localhost:8080/",
          "height": 221
        }
      },
      "source": [
        "# Jumlah data kosong untuk setiap kolom\n",
        "print(df.isnull().sum())"
      ],
      "execution_count": 153,
      "outputs": [
        {
          "output_type": "stream",
          "text": [
            "price              0\n",
            "year              12\n",
            "manufacturer     705\n",
            "model            265\n",
            "condition       9152\n",
            "fuel              73\n",
            "title_status     110\n",
            "transmission     190\n",
            "drive           4642\n",
            "paint_color     5514\n",
            "state              0\n",
            "dtype: int64\n"
          ],
          "name": "stdout"
        }
      ]
    },
    {
      "cell_type": "code",
      "metadata": {
        "id": "sHFJJs5NP-GJ",
        "colab_type": "code",
        "outputId": "e3a79022-80b0-433b-9cd9-26b4dda426fb",
        "colab": {
          "base_uri": "https://localhost:8080/",
          "height": 221
        }
      },
      "source": [
        "df.dtypes"
      ],
      "execution_count": 154,
      "outputs": [
        {
          "output_type": "execute_result",
          "data": {
            "text/plain": [
              "price             int64\n",
              "year            float64\n",
              "manufacturer     object\n",
              "model            object\n",
              "condition        object\n",
              "fuel             object\n",
              "title_status     object\n",
              "transmission     object\n",
              "drive            object\n",
              "paint_color      object\n",
              "state            object\n",
              "dtype: object"
            ]
          },
          "metadata": {
            "tags": []
          },
          "execution_count": 154
        }
      ]
    },
    {
      "cell_type": "markdown",
      "metadata": {
        "id": "5xbjWk8RremD",
        "colab_type": "text"
      },
      "source": [
        "**Handling missing value untuk type int dan float**\n",
        "\n"
      ]
    },
    {
      "cell_type": "code",
      "metadata": {
        "id": "t-Krp4_-reDy",
        "colab_type": "code",
        "colab": {}
      },
      "source": [
        "# Untuk Missing value bertipe int dan float, mengisinya dengan mean (rata-rata) nilai\n",
        "df.year.fillna(df.year.mean(),inplace=True)"
      ],
      "execution_count": 0,
      "outputs": []
    },
    {
      "cell_type": "code",
      "metadata": {
        "id": "cNLQlZ4iQyhF",
        "colab_type": "code",
        "outputId": "a3ff3187-3867-4807-c3bb-ba41bb288369",
        "colab": {
          "base_uri": "https://localhost:8080/",
          "height": 297
        }
      },
      "source": [
        "df.describe()"
      ],
      "execution_count": 156,
      "outputs": [
        {
          "output_type": "execute_result",
          "data": {
            "text/html": [
              "<div>\n",
              "<style scoped>\n",
              "    .dataframe tbody tr th:only-of-type {\n",
              "        vertical-align: middle;\n",
              "    }\n",
              "\n",
              "    .dataframe tbody tr th {\n",
              "        vertical-align: top;\n",
              "    }\n",
              "\n",
              "    .dataframe thead th {\n",
              "        text-align: right;\n",
              "    }\n",
              "</style>\n",
              "<table border=\"1\" class=\"dataframe\">\n",
              "  <thead>\n",
              "    <tr style=\"text-align: right;\">\n",
              "      <th></th>\n",
              "      <th>price</th>\n",
              "      <th>year</th>\n",
              "    </tr>\n",
              "  </thead>\n",
              "  <tbody>\n",
              "    <tr>\n",
              "      <th>count</th>\n",
              "      <td>2.000100e+04</td>\n",
              "      <td>20001.000000</td>\n",
              "    </tr>\n",
              "    <tr>\n",
              "      <th>mean</th>\n",
              "      <td>7.664058e+04</td>\n",
              "      <td>2009.830657</td>\n",
              "    </tr>\n",
              "    <tr>\n",
              "      <th>std</th>\n",
              "      <td>8.335762e+06</td>\n",
              "      <td>7.911238</td>\n",
              "    </tr>\n",
              "    <tr>\n",
              "      <th>min</th>\n",
              "      <td>0.000000e+00</td>\n",
              "      <td>1917.000000</td>\n",
              "    </tr>\n",
              "    <tr>\n",
              "      <th>25%</th>\n",
              "      <td>3.970000e+03</td>\n",
              "      <td>2007.000000</td>\n",
              "    </tr>\n",
              "    <tr>\n",
              "      <th>50%</th>\n",
              "      <td>8.795000e+03</td>\n",
              "      <td>2011.000000</td>\n",
              "    </tr>\n",
              "    <tr>\n",
              "      <th>75%</th>\n",
              "      <td>1.749500e+04</td>\n",
              "      <td>2015.000000</td>\n",
              "    </tr>\n",
              "    <tr>\n",
              "      <th>max</th>\n",
              "      <td>1.172420e+09</td>\n",
              "      <td>2020.000000</td>\n",
              "    </tr>\n",
              "  </tbody>\n",
              "</table>\n",
              "</div>"
            ],
            "text/plain": [
              "              price          year\n",
              "count  2.000100e+04  20001.000000\n",
              "mean   7.664058e+04   2009.830657\n",
              "std    8.335762e+06      7.911238\n",
              "min    0.000000e+00   1917.000000\n",
              "25%    3.970000e+03   2007.000000\n",
              "50%    8.795000e+03   2011.000000\n",
              "75%    1.749500e+04   2015.000000\n",
              "max    1.172420e+09   2020.000000"
            ]
          },
          "metadata": {
            "tags": []
          },
          "execution_count": 156
        }
      ]
    },
    {
      "cell_type": "markdown",
      "metadata": {
        "id": "sQbsojcSUwuf",
        "colab_type": "text"
      },
      "source": [
        "**Handling missing value untuk type object**"
      ]
    },
    {
      "cell_type": "code",
      "metadata": {
        "id": "SF2ot3SwVAb8",
        "colab_type": "code",
        "outputId": "62760cd8-438d-4f05-ad68-ccace9897628",
        "colab": {
          "base_uri": "https://localhost:8080/",
          "height": 221
        }
      },
      "source": [
        "df.dtypes"
      ],
      "execution_count": 157,
      "outputs": [
        {
          "output_type": "execute_result",
          "data": {
            "text/plain": [
              "price             int64\n",
              "year            float64\n",
              "manufacturer     object\n",
              "model            object\n",
              "condition        object\n",
              "fuel             object\n",
              "title_status     object\n",
              "transmission     object\n",
              "drive            object\n",
              "paint_color      object\n",
              "state            object\n",
              "dtype: object"
            ]
          },
          "metadata": {
            "tags": []
          },
          "execution_count": 157
        }
      ]
    },
    {
      "cell_type": "code",
      "metadata": {
        "id": "OvNKPoYfYMiN",
        "colab_type": "code",
        "outputId": "52aea6e5-db06-4556-b0e1-5378116cbf1a",
        "colab": {
          "base_uri": "https://localhost:8080/",
          "height": 34
        }
      },
      "source": [
        "print(len(df['manufacturer'].unique()))\n",
        "# df.manufacturer.value_counts()\n",
        "df[\"manufacturer\"].fillna(\"ford\", inplace = True)"
      ],
      "execution_count": 158,
      "outputs": [
        {
          "output_type": "stream",
          "text": [
            "41\n"
          ],
          "name": "stdout"
        }
      ]
    },
    {
      "cell_type": "code",
      "metadata": {
        "id": "343wvZ1MxWUT",
        "colab_type": "code",
        "outputId": "aa324eeb-7a24-40bd-c20c-3cfa85b24d56",
        "colab": {
          "base_uri": "https://localhost:8080/",
          "height": 34
        }
      },
      "source": [
        "print(len(df['model'].unique()))\n",
        "# df.model.value_counts()\n",
        "df[\"model\"].fillna(\"f-150\", inplace = True)"
      ],
      "execution_count": 159,
      "outputs": [
        {
          "output_type": "stream",
          "text": [
            "4145\n"
          ],
          "name": "stdout"
        }
      ]
    },
    {
      "cell_type": "code",
      "metadata": {
        "id": "EGvhIF89wtHF",
        "colab_type": "code",
        "outputId": "178deb4a-332b-4f57-d992-9d8b9879196c",
        "colab": {
          "base_uri": "https://localhost:8080/",
          "height": 34
        }
      },
      "source": [
        "print(len(df['condition'].unique()))\n",
        "# df.condition.value_counts()\n",
        "df[\"condition\"].fillna(\"excellent\", inplace = True)"
      ],
      "execution_count": 160,
      "outputs": [
        {
          "output_type": "stream",
          "text": [
            "7\n"
          ],
          "name": "stdout"
        }
      ]
    },
    {
      "cell_type": "code",
      "metadata": {
        "id": "jFI1eoKLb2Gv",
        "colab_type": "code",
        "outputId": "6a974a96-a645-4fae-a73f-994fe2f83c2d",
        "colab": {
          "base_uri": "https://localhost:8080/",
          "height": 34
        }
      },
      "source": [
        "print(len(df['fuel'].unique()))\n",
        "# df.fuel.value_counts()\n",
        "df[\"fuel\"].fillna(\"gas\", inplace = True)"
      ],
      "execution_count": 161,
      "outputs": [
        {
          "output_type": "stream",
          "text": [
            "6\n"
          ],
          "name": "stdout"
        }
      ]
    },
    {
      "cell_type": "code",
      "metadata": {
        "id": "5kKvicPzbzhN",
        "colab_type": "code",
        "outputId": "d3454b9e-357b-4fdb-a584-be53a9e6e695",
        "colab": {
          "base_uri": "https://localhost:8080/",
          "height": 34
        }
      },
      "source": [
        "print(len(df['title_status'].unique()))\n",
        "# df.title_status.value_counts()\n",
        "df[\"title_status\"].fillna(\"clean\", inplace = True)"
      ],
      "execution_count": 162,
      "outputs": [
        {
          "output_type": "stream",
          "text": [
            "7\n"
          ],
          "name": "stdout"
        }
      ]
    },
    {
      "cell_type": "code",
      "metadata": {
        "id": "2MdAs6DwcN8n",
        "colab_type": "code",
        "outputId": "979657f2-1405-4184-8a23-57e57b65b74b",
        "colab": {
          "base_uri": "https://localhost:8080/",
          "height": 34
        }
      },
      "source": [
        "print(len(df['transmission'].unique()))\n",
        "df.transmission.value_counts()\n",
        "df[\"transmission\"].fillna(\"automatic\", inplace = True)"
      ],
      "execution_count": 163,
      "outputs": [
        {
          "output_type": "stream",
          "text": [
            "4\n"
          ],
          "name": "stdout"
        }
      ]
    },
    {
      "cell_type": "code",
      "metadata": {
        "id": "segmfGrWxAIB",
        "colab_type": "code",
        "outputId": "504130c5-c6b0-4b12-d526-0650c1e930f7",
        "colab": {
          "base_uri": "https://localhost:8080/",
          "height": 34
        }
      },
      "source": [
        "print(len(df['drive'].unique()))\n",
        "# df.drive.value_counts()\n",
        "df[\"drive\"].fillna(\"4wd\", inplace = True)"
      ],
      "execution_count": 164,
      "outputs": [
        {
          "output_type": "stream",
          "text": [
            "4\n"
          ],
          "name": "stdout"
        }
      ]
    },
    {
      "cell_type": "code",
      "metadata": {
        "id": "VhlQb-YrxLqZ",
        "colab_type": "code",
        "outputId": "6de39b3f-25e5-40e7-fd06-bfbe9d3e57e9",
        "colab": {
          "base_uri": "https://localhost:8080/",
          "height": 34
        }
      },
      "source": [
        "print(len(df['paint_color'].unique()))\n",
        "# df.paint_color.value_counts()\n",
        "df[\"paint_color\"].fillna(\"white\", inplace = True)"
      ],
      "execution_count": 165,
      "outputs": [
        {
          "output_type": "stream",
          "text": [
            "13\n"
          ],
          "name": "stdout"
        }
      ]
    },
    {
      "cell_type": "code",
      "metadata": {
        "id": "LJCuDr-LSL2G",
        "colab_type": "code",
        "outputId": "da7fb3ee-29a8-4032-a072-88cb53474f39",
        "colab": {
          "base_uri": "https://localhost:8080/",
          "height": 221
        }
      },
      "source": [
        "print(df.isnull().sum())"
      ],
      "execution_count": 166,
      "outputs": [
        {
          "output_type": "stream",
          "text": [
            "price           0\n",
            "year            0\n",
            "manufacturer    0\n",
            "model           0\n",
            "condition       0\n",
            "fuel            0\n",
            "title_status    0\n",
            "transmission    0\n",
            "drive           0\n",
            "paint_color     0\n",
            "state           0\n",
            "dtype: int64\n"
          ],
          "name": "stdout"
        }
      ]
    },
    {
      "cell_type": "code",
      "metadata": {
        "id": "4xeCP_tsAZWO",
        "colab_type": "code",
        "outputId": "bbd343b6-d840-4c3a-876a-d5e1e012f69f",
        "colab": {
          "base_uri": "https://localhost:8080/",
          "height": 221
        }
      },
      "source": [
        "df.dtypes"
      ],
      "execution_count": 167,
      "outputs": [
        {
          "output_type": "execute_result",
          "data": {
            "text/plain": [
              "price             int64\n",
              "year            float64\n",
              "manufacturer     object\n",
              "model            object\n",
              "condition        object\n",
              "fuel             object\n",
              "title_status     object\n",
              "transmission     object\n",
              "drive            object\n",
              "paint_color      object\n",
              "state            object\n",
              "dtype: object"
            ]
          },
          "metadata": {
            "tags": []
          },
          "execution_count": 167
        }
      ]
    },
    {
      "cell_type": "markdown",
      "metadata": {
        "id": "RsI4mycfJJVt",
        "colab_type": "text"
      },
      "source": [
        "# Encode object to int/float"
      ]
    },
    {
      "cell_type": "code",
      "metadata": {
        "id": "oc3PJUQvJOeu",
        "colab_type": "code",
        "colab": {}
      },
      "source": [
        "from sklearn.preprocessing import LabelEncoder\n",
        "encoder = LabelEncoder()"
      ],
      "execution_count": 0,
      "outputs": []
    },
    {
      "cell_type": "code",
      "metadata": {
        "id": "16pkQ-yECsco",
        "colab_type": "code",
        "colab": {}
      },
      "source": [
        "df['manufacturer'] = encoder.fit_transform(df['manufacturer'])\n",
        "df['model'] = encoder.fit_transform(df['model'])\n",
        "df['condition'] = encoder.fit_transform(df['condition'])\n",
        "df['fuel'] = encoder.fit_transform(df['fuel'])\n",
        "df['title_status'] = encoder.fit_transform(df['title_status'])\n",
        "df['transmission'] = encoder.fit_transform(df['transmission'])\n",
        "df['drive'] = encoder.fit_transform(df['drive'])\n",
        "df['paint_color'] = encoder.fit_transform(df['paint_color'])\n",
        "df['state'] = encoder.fit_transform(df['state'])"
      ],
      "execution_count": 0,
      "outputs": []
    },
    {
      "cell_type": "code",
      "metadata": {
        "id": "UwBxRUkSC2z7",
        "colab_type": "code",
        "outputId": "e2ae88b1-0b2f-477a-fc8b-d3e88caf1f76",
        "colab": {
          "base_uri": "https://localhost:8080/",
          "height": 221
        }
      },
      "source": [
        "df.dtypes"
      ],
      "execution_count": 170,
      "outputs": [
        {
          "output_type": "execute_result",
          "data": {
            "text/plain": [
              "price             int64\n",
              "year            float64\n",
              "manufacturer      int64\n",
              "model             int64\n",
              "condition         int64\n",
              "fuel              int64\n",
              "title_status      int64\n",
              "transmission      int64\n",
              "drive             int64\n",
              "paint_color       int64\n",
              "state             int64\n",
              "dtype: object"
            ]
          },
          "metadata": {
            "tags": []
          },
          "execution_count": 170
        }
      ]
    },
    {
      "cell_type": "code",
      "metadata": {
        "id": "BIjP5UrGDBnh",
        "colab_type": "code",
        "outputId": "2549edf6-4c6a-4db2-a863-bb15e3f73243",
        "colab": {
          "base_uri": "https://localhost:8080/",
          "height": 204
        }
      },
      "source": [
        "df.head()"
      ],
      "execution_count": 171,
      "outputs": [
        {
          "output_type": "execute_result",
          "data": {
            "text/html": [
              "<div>\n",
              "<style scoped>\n",
              "    .dataframe tbody tr th:only-of-type {\n",
              "        vertical-align: middle;\n",
              "    }\n",
              "\n",
              "    .dataframe tbody tr th {\n",
              "        vertical-align: top;\n",
              "    }\n",
              "\n",
              "    .dataframe thead th {\n",
              "        text-align: right;\n",
              "    }\n",
              "</style>\n",
              "<table border=\"1\" class=\"dataframe\">\n",
              "  <thead>\n",
              "    <tr style=\"text-align: right;\">\n",
              "      <th></th>\n",
              "      <th>price</th>\n",
              "      <th>year</th>\n",
              "      <th>manufacturer</th>\n",
              "      <th>model</th>\n",
              "      <th>condition</th>\n",
              "      <th>fuel</th>\n",
              "      <th>title_status</th>\n",
              "      <th>transmission</th>\n",
              "      <th>drive</th>\n",
              "      <th>paint_color</th>\n",
              "      <th>state</th>\n",
              "    </tr>\n",
              "  </thead>\n",
              "  <tbody>\n",
              "    <tr>\n",
              "      <th>0</th>\n",
              "      <td>17899</td>\n",
              "      <td>2012.0</td>\n",
              "      <td>38</td>\n",
              "      <td>2197</td>\n",
              "      <td>0</td>\n",
              "      <td>2</td>\n",
              "      <td>0</td>\n",
              "      <td>1</td>\n",
              "      <td>0</td>\n",
              "      <td>0</td>\n",
              "      <td>0</td>\n",
              "    </tr>\n",
              "    <tr>\n",
              "      <th>1</th>\n",
              "      <td>0</td>\n",
              "      <td>2016.0</td>\n",
              "      <td>12</td>\n",
              "      <td>1764</td>\n",
              "      <td>0</td>\n",
              "      <td>2</td>\n",
              "      <td>0</td>\n",
              "      <td>0</td>\n",
              "      <td>0</td>\n",
              "      <td>10</td>\n",
              "      <td>0</td>\n",
              "    </tr>\n",
              "    <tr>\n",
              "      <th>2</th>\n",
              "      <td>46463</td>\n",
              "      <td>2015.0</td>\n",
              "      <td>13</td>\n",
              "      <td>3285</td>\n",
              "      <td>0</td>\n",
              "      <td>2</td>\n",
              "      <td>0</td>\n",
              "      <td>0</td>\n",
              "      <td>0</td>\n",
              "      <td>10</td>\n",
              "      <td>0</td>\n",
              "    </tr>\n",
              "    <tr>\n",
              "      <th>3</th>\n",
              "      <td>0</td>\n",
              "      <td>2016.0</td>\n",
              "      <td>12</td>\n",
              "      <td>1764</td>\n",
              "      <td>0</td>\n",
              "      <td>2</td>\n",
              "      <td>0</td>\n",
              "      <td>0</td>\n",
              "      <td>0</td>\n",
              "      <td>10</td>\n",
              "      <td>0</td>\n",
              "    </tr>\n",
              "    <tr>\n",
              "      <th>4</th>\n",
              "      <td>49999</td>\n",
              "      <td>2018.0</td>\n",
              "      <td>12</td>\n",
              "      <td>1843</td>\n",
              "      <td>0</td>\n",
              "      <td>0</td>\n",
              "      <td>0</td>\n",
              "      <td>0</td>\n",
              "      <td>0</td>\n",
              "      <td>10</td>\n",
              "      <td>0</td>\n",
              "    </tr>\n",
              "  </tbody>\n",
              "</table>\n",
              "</div>"
            ],
            "text/plain": [
              "   price    year  manufacturer  model  ...  transmission  drive  paint_color  state\n",
              "0  17899  2012.0            38   2197  ...             1      0            0      0\n",
              "1      0  2016.0            12   1764  ...             0      0           10      0\n",
              "2  46463  2015.0            13   3285  ...             0      0           10      0\n",
              "3      0  2016.0            12   1764  ...             0      0           10      0\n",
              "4  49999  2018.0            12   1843  ...             0      0           10      0\n",
              "\n",
              "[5 rows x 11 columns]"
            ]
          },
          "metadata": {
            "tags": []
          },
          "execution_count": 171
        }
      ]
    },
    {
      "cell_type": "markdown",
      "metadata": {
        "id": "bqmxnR4LyG7L",
        "colab_type": "text"
      },
      "source": [
        "# Outlier detection\n"
      ]
    },
    {
      "cell_type": "code",
      "metadata": {
        "id": "o0_hhUpyfeQA",
        "colab_type": "code",
        "outputId": "85f4e4ed-07ea-4b15-957d-62bf64a213cc",
        "colab": {
          "base_uri": "https://localhost:8080/",
          "height": 360
        }
      },
      "source": [
        "import matplotlib as mpl\n",
        "from matplotlib import pyplot as plt\n",
        "mpl.rcParams['figure.dpi'] = 100\n",
        "plt.figure(figsize=(100, 100))\n",
        "f, axes = plt.subplots(1, 2)\n",
        "sns.boxplot(y=df[\"transmission\"], ax=axes[0])\n",
        "sns.boxplot(y=df[\"drive\"], ax=axes[1])\n",
        "plt.subplots_adjust(wspace=1)"
      ],
      "execution_count": 172,
      "outputs": [
        {
          "output_type": "display_data",
          "data": {
            "text/plain": [
              "<Figure size 10000x10000 with 0 Axes>"
            ]
          },
          "metadata": {
            "tags": []
          }
        },
        {
          "output_type": "display_data",
          "data": {
            "image/png": "[encoded data removed]",
            "text/plain": [
              "<Figure size 600x400 with 2 Axes>"
            ]
          },
          "metadata": {
            "tags": [],
            "needs_background": "light"
          }
        }
      ]
    },
    {
      "cell_type": "markdown",
      "metadata": {
        "id": "Y7PG_RXdkFIE",
        "colab_type": "text"
      },
      "source": [
        "# Scalling"
      ]
    },
    {
      "cell_type": "code",
      "metadata": {
        "id": "h_sLX83f1DAh",
        "colab_type": "code",
        "outputId": "5a47b7ca-44d6-4bb9-e8c2-6e7c997ed7fa",
        "colab": {
          "base_uri": "https://localhost:8080/",
          "height": 204
        }
      },
      "source": [
        "df.head()"
      ],
      "execution_count": 173,
      "outputs": [
        {
          "output_type": "execute_result",
          "data": {
            "text/html": [
              "<div>\n",
              "<style scoped>\n",
              "    .dataframe tbody tr th:only-of-type {\n",
              "        vertical-align: middle;\n",
              "    }\n",
              "\n",
              "    .dataframe tbody tr th {\n",
              "        vertical-align: top;\n",
              "    }\n",
              "\n",
              "    .dataframe thead th {\n",
              "        text-align: right;\n",
              "    }\n",
              "</style>\n",
              "<table border=\"1\" class=\"dataframe\">\n",
              "  <thead>\n",
              "    <tr style=\"text-align: right;\">\n",
              "      <th></th>\n",
              "      <th>price</th>\n",
              "      <th>year</th>\n",
              "      <th>manufacturer</th>\n",
              "      <th>model</th>\n",
              "      <th>condition</th>\n",
              "      <th>fuel</th>\n",
              "      <th>title_status</th>\n",
              "      <th>transmission</th>\n",
              "      <th>drive</th>\n",
              "      <th>paint_color</th>\n",
              "      <th>state</th>\n",
              "    </tr>\n",
              "  </thead>\n",
              "  <tbody>\n",
              "    <tr>\n",
              "      <th>0</th>\n",
              "      <td>17899</td>\n",
              "      <td>2012.0</td>\n",
              "      <td>38</td>\n",
              "      <td>2197</td>\n",
              "      <td>0</td>\n",
              "      <td>2</td>\n",
              "      <td>0</td>\n",
              "      <td>1</td>\n",
              "      <td>0</td>\n",
              "      <td>0</td>\n",
              "      <td>0</td>\n",
              "    </tr>\n",
              "    <tr>\n",
              "      <th>1</th>\n",
              "      <td>0</td>\n",
              "      <td>2016.0</td>\n",
              "      <td>12</td>\n",
              "      <td>1764</td>\n",
              "      <td>0</td>\n",
              "      <td>2</td>\n",
              "      <td>0</td>\n",
              "      <td>0</td>\n",
              "      <td>0</td>\n",
              "      <td>10</td>\n",
              "      <td>0</td>\n",
              "    </tr>\n",
              "    <tr>\n",
              "      <th>2</th>\n",
              "      <td>46463</td>\n",
              "      <td>2015.0</td>\n",
              "      <td>13</td>\n",
              "      <td>3285</td>\n",
              "      <td>0</td>\n",
              "      <td>2</td>\n",
              "      <td>0</td>\n",
              "      <td>0</td>\n",
              "      <td>0</td>\n",
              "      <td>10</td>\n",
              "      <td>0</td>\n",
              "    </tr>\n",
              "    <tr>\n",
              "      <th>3</th>\n",
              "      <td>0</td>\n",
              "      <td>2016.0</td>\n",
              "      <td>12</td>\n",
              "      <td>1764</td>\n",
              "      <td>0</td>\n",
              "      <td>2</td>\n",
              "      <td>0</td>\n",
              "      <td>0</td>\n",
              "      <td>0</td>\n",
              "      <td>10</td>\n",
              "      <td>0</td>\n",
              "    </tr>\n",
              "    <tr>\n",
              "      <th>4</th>\n",
              "      <td>49999</td>\n",
              "      <td>2018.0</td>\n",
              "      <td>12</td>\n",
              "      <td>1843</td>\n",
              "      <td>0</td>\n",
              "      <td>0</td>\n",
              "      <td>0</td>\n",
              "      <td>0</td>\n",
              "      <td>0</td>\n",
              "      <td>10</td>\n",
              "      <td>0</td>\n",
              "    </tr>\n",
              "  </tbody>\n",
              "</table>\n",
              "</div>"
            ],
            "text/plain": [
              "   price    year  manufacturer  model  ...  transmission  drive  paint_color  state\n",
              "0  17899  2012.0            38   2197  ...             1      0            0      0\n",
              "1      0  2016.0            12   1764  ...             0      0           10      0\n",
              "2  46463  2015.0            13   3285  ...             0      0           10      0\n",
              "3      0  2016.0            12   1764  ...             0      0           10      0\n",
              "4  49999  2018.0            12   1843  ...             0      0           10      0\n",
              "\n",
              "[5 rows x 11 columns]"
            ]
          },
          "metadata": {
            "tags": []
          },
          "execution_count": 173
        }
      ]
    },
    {
      "cell_type": "code",
      "metadata": {
        "id": "RdK7udT1kJLj",
        "colab_type": "code",
        "outputId": "c0d5087b-1b8f-42ee-a9e1-7416ab06f315",
        "colab": {
          "base_uri": "https://localhost:8080/",
          "height": 204
        }
      },
      "source": [
        "from sklearn import preprocessing\n",
        "\n",
        "x = df.values\n",
        "min_max_scaler = preprocessing.MinMaxScaler()\n",
        "x_scaled = min_max_scaler.fit_transform(x)\n",
        "df = pd.DataFrame(x_scaled)\n",
        "df.columns = ['price','year','manufacturer','model','condition','fuel','title_status','transmission','drive','paint_color','state']\n",
        "df.head()"
      ],
      "execution_count": 174,
      "outputs": [
        {
          "output_type": "execute_result",
          "data": {
            "text/html": [
              "<div>\n",
              "<style scoped>\n",
              "    .dataframe tbody tr th:only-of-type {\n",
              "        vertical-align: middle;\n",
              "    }\n",
              "\n",
              "    .dataframe tbody tr th {\n",
              "        vertical-align: top;\n",
              "    }\n",
              "\n",
              "    .dataframe thead th {\n",
              "        text-align: right;\n",
              "    }\n",
              "</style>\n",
              "<table border=\"1\" class=\"dataframe\">\n",
              "  <thead>\n",
              "    <tr style=\"text-align: right;\">\n",
              "      <th></th>\n",
              "      <th>price</th>\n",
              "      <th>year</th>\n",
              "      <th>manufacturer</th>\n",
              "      <th>model</th>\n",
              "      <th>condition</th>\n",
              "      <th>fuel</th>\n",
              "      <th>title_status</th>\n",
              "      <th>transmission</th>\n",
              "      <th>drive</th>\n",
              "      <th>paint_color</th>\n",
              "      <th>state</th>\n",
              "    </tr>\n",
              "  </thead>\n",
              "  <tbody>\n",
              "    <tr>\n",
              "      <th>0</th>\n",
              "      <td>0.000015</td>\n",
              "      <td>0.922330</td>\n",
              "      <td>0.974359</td>\n",
              "      <td>0.530292</td>\n",
              "      <td>0.0</td>\n",
              "      <td>0.5</td>\n",
              "      <td>0.0</td>\n",
              "      <td>0.5</td>\n",
              "      <td>0.0</td>\n",
              "      <td>0.000000</td>\n",
              "      <td>0.0</td>\n",
              "    </tr>\n",
              "    <tr>\n",
              "      <th>1</th>\n",
              "      <td>0.000000</td>\n",
              "      <td>0.961165</td>\n",
              "      <td>0.307692</td>\n",
              "      <td>0.425778</td>\n",
              "      <td>0.0</td>\n",
              "      <td>0.5</td>\n",
              "      <td>0.0</td>\n",
              "      <td>0.0</td>\n",
              "      <td>0.0</td>\n",
              "      <td>0.909091</td>\n",
              "      <td>0.0</td>\n",
              "    </tr>\n",
              "    <tr>\n",
              "      <th>2</th>\n",
              "      <td>0.000040</td>\n",
              "      <td>0.951456</td>\n",
              "      <td>0.333333</td>\n",
              "      <td>0.792904</td>\n",
              "      <td>0.0</td>\n",
              "      <td>0.5</td>\n",
              "      <td>0.0</td>\n",
              "      <td>0.0</td>\n",
              "      <td>0.0</td>\n",
              "      <td>0.909091</td>\n",
              "      <td>0.0</td>\n",
              "    </tr>\n",
              "    <tr>\n",
              "      <th>3</th>\n",
              "      <td>0.000000</td>\n",
              "      <td>0.961165</td>\n",
              "      <td>0.307692</td>\n",
              "      <td>0.425778</td>\n",
              "      <td>0.0</td>\n",
              "      <td>0.5</td>\n",
              "      <td>0.0</td>\n",
              "      <td>0.0</td>\n",
              "      <td>0.0</td>\n",
              "      <td>0.909091</td>\n",
              "      <td>0.0</td>\n",
              "    </tr>\n",
              "    <tr>\n",
              "      <th>4</th>\n",
              "      <td>0.000043</td>\n",
              "      <td>0.980583</td>\n",
              "      <td>0.307692</td>\n",
              "      <td>0.444847</td>\n",
              "      <td>0.0</td>\n",
              "      <td>0.0</td>\n",
              "      <td>0.0</td>\n",
              "      <td>0.0</td>\n",
              "      <td>0.0</td>\n",
              "      <td>0.909091</td>\n",
              "      <td>0.0</td>\n",
              "    </tr>\n",
              "  </tbody>\n",
              "</table>\n",
              "</div>"
            ],
            "text/plain": [
              "      price      year  manufacturer  ...  drive  paint_color  state\n",
              "0  0.000015  0.922330      0.974359  ...    0.0     0.000000    0.0\n",
              "1  0.000000  0.961165      0.307692  ...    0.0     0.909091    0.0\n",
              "2  0.000040  0.951456      0.333333  ...    0.0     0.909091    0.0\n",
              "3  0.000000  0.961165      0.307692  ...    0.0     0.909091    0.0\n",
              "4  0.000043  0.980583      0.307692  ...    0.0     0.909091    0.0\n",
              "\n",
              "[5 rows x 11 columns]"
            ]
          },
          "metadata": {
            "tags": []
          },
          "execution_count": 174
        }
      ]
    },
    {
      "cell_type": "markdown",
      "metadata": {
        "id": "t95Yf46chm5n",
        "colab_type": "text"
      },
      "source": [
        "# Korelasi antar data\n"
      ]
    },
    {
      "cell_type": "code",
      "metadata": {
        "id": "td92jJtgzjbT",
        "colab_type": "code",
        "colab": {}
      },
      "source": [
        "import seaborn as sns\n",
        "from matplotlib import pyplot as plt\n",
        "sns.set_style(\"whitegrid\")"
      ],
      "execution_count": 0,
      "outputs": []
    },
    {
      "cell_type": "code",
      "metadata": {
        "id": "ScCmS_0ohdUA",
        "colab_type": "code",
        "outputId": "c93217c2-6c59-43ff-a87e-5bc383823fe5",
        "colab": {
          "base_uri": "https://localhost:8080/",
          "height": 506
        }
      },
      "source": [
        "ambil = df.select_dtypes(include = ['float64', 'int64',]).iloc[:, :].corr()\n",
        "plt.figure(figsize=(5, 5))\n",
        "ax = sns.heatmap(ambil, vmax=1, square=True)\n",
        "plt.xticks(rotation=45)\n",
        "plt.yticks(rotation=45)"
      ],
      "execution_count": 176,
      "outputs": [
        {
          "output_type": "execute_result",
          "data": {
            "text/plain": [
              "(array([ 0.5,  1.5,  2.5,  3.5,  4.5,  5.5,  6.5,  7.5,  8.5,  9.5, 10.5]),\n",
              " <a list of 11 Text major ticklabel objects>)"
            ]
          },
          "metadata": {
            "tags": []
          },
          "execution_count": 176
        },
        {
          "output_type": "display_data",
          "data": {
            "image/png": "[encoded data removed]",
            "text/plain": [
              "<Figure size 500x500 with 2 Axes>"
            ]
          },
          "metadata": {
            "tags": []
          }
        }
      ]
    },
    {
      "cell_type": "code",
      "metadata": {
        "id": "g90w_FM0ioCT",
        "colab_type": "code",
        "outputId": "6bc3eded-42a8-4aed-f1a5-0c2fb81f2972",
        "colab": {
          "base_uri": "https://localhost:8080/",
          "height": 390
        }
      },
      "source": [
        "ambil"
      ],
      "execution_count": 0,
      "outputs": [
        {
          "output_type": "execute_result",
          "data": {
            "text/html": [
              "<div>\n",
              "<style scoped>\n",
              "    .dataframe tbody tr th:only-of-type {\n",
              "        vertical-align: middle;\n",
              "    }\n",
              "\n",
              "    .dataframe tbody tr th {\n",
              "        vertical-align: top;\n",
              "    }\n",
              "\n",
              "    .dataframe thead th {\n",
              "        text-align: right;\n",
              "    }\n",
              "</style>\n",
              "<table border=\"1\" class=\"dataframe\">\n",
              "  <thead>\n",
              "    <tr style=\"text-align: right;\">\n",
              "      <th></th>\n",
              "      <th>price</th>\n",
              "      <th>year</th>\n",
              "      <th>manufacturer</th>\n",
              "      <th>model</th>\n",
              "      <th>condition</th>\n",
              "      <th>fuel</th>\n",
              "      <th>title_status</th>\n",
              "      <th>transmission</th>\n",
              "      <th>drive</th>\n",
              "      <th>paint_color</th>\n",
              "      <th>state</th>\n",
              "    </tr>\n",
              "  </thead>\n",
              "  <tbody>\n",
              "    <tr>\n",
              "      <th>price</th>\n",
              "      <td>1.000000</td>\n",
              "      <td>-0.004382</td>\n",
              "      <td>-0.006752</td>\n",
              "      <td>0.008235</td>\n",
              "      <td>-0.004444</td>\n",
              "      <td>-0.020615</td>\n",
              "      <td>-0.001208</td>\n",
              "      <td>-0.002562</td>\n",
              "      <td>-0.003459</td>\n",
              "      <td>0.004747</td>\n",
              "      <td>-0.003147</td>\n",
              "    </tr>\n",
              "    <tr>\n",
              "      <th>year</th>\n",
              "      <td>-0.004382</td>\n",
              "      <td>1.000000</td>\n",
              "      <td>0.069177</td>\n",
              "      <td>0.042713</td>\n",
              "      <td>-0.109740</td>\n",
              "      <td>0.036020</td>\n",
              "      <td>0.025964</td>\n",
              "      <td>-0.085660</td>\n",
              "      <td>-0.118948</td>\n",
              "      <td>-0.030790</td>\n",
              "      <td>0.122458</td>\n",
              "    </tr>\n",
              "    <tr>\n",
              "      <th>manufacturer</th>\n",
              "      <td>-0.006752</td>\n",
              "      <td>0.069177</td>\n",
              "      <td>1.000000</td>\n",
              "      <td>0.040490</td>\n",
              "      <td>-0.026507</td>\n",
              "      <td>0.006257</td>\n",
              "      <td>0.048211</td>\n",
              "      <td>0.041105</td>\n",
              "      <td>-0.084604</td>\n",
              "      <td>-0.016804</td>\n",
              "      <td>0.063490</td>\n",
              "    </tr>\n",
              "    <tr>\n",
              "      <th>model</th>\n",
              "      <td>0.008235</td>\n",
              "      <td>0.042713</td>\n",
              "      <td>0.040490</td>\n",
              "      <td>1.000000</td>\n",
              "      <td>-0.027583</td>\n",
              "      <td>0.101516</td>\n",
              "      <td>0.003933</td>\n",
              "      <td>-0.019052</td>\n",
              "      <td>-0.113513</td>\n",
              "      <td>-0.000919</td>\n",
              "      <td>0.015843</td>\n",
              "    </tr>\n",
              "    <tr>\n",
              "      <th>condition</th>\n",
              "      <td>-0.004444</td>\n",
              "      <td>-0.109740</td>\n",
              "      <td>-0.026507</td>\n",
              "      <td>-0.027583</td>\n",
              "      <td>1.000000</td>\n",
              "      <td>0.022454</td>\n",
              "      <td>0.083221</td>\n",
              "      <td>0.194189</td>\n",
              "      <td>0.124757</td>\n",
              "      <td>-0.033624</td>\n",
              "      <td>0.019283</td>\n",
              "    </tr>\n",
              "    <tr>\n",
              "      <th>fuel</th>\n",
              "      <td>-0.020615</td>\n",
              "      <td>0.036020</td>\n",
              "      <td>0.006257</td>\n",
              "      <td>0.101516</td>\n",
              "      <td>0.022454</td>\n",
              "      <td>1.000000</td>\n",
              "      <td>0.014437</td>\n",
              "      <td>0.031500</td>\n",
              "      <td>0.038258</td>\n",
              "      <td>-0.041036</td>\n",
              "      <td>0.004221</td>\n",
              "    </tr>\n",
              "    <tr>\n",
              "      <th>title_status</th>\n",
              "      <td>-0.001208</td>\n",
              "      <td>0.025964</td>\n",
              "      <td>0.048211</td>\n",
              "      <td>0.003933</td>\n",
              "      <td>0.083221</td>\n",
              "      <td>0.014437</td>\n",
              "      <td>1.000000</td>\n",
              "      <td>-0.010784</td>\n",
              "      <td>0.005105</td>\n",
              "      <td>-0.003638</td>\n",
              "      <td>0.041385</td>\n",
              "    </tr>\n",
              "    <tr>\n",
              "      <th>transmission</th>\n",
              "      <td>-0.002562</td>\n",
              "      <td>-0.085660</td>\n",
              "      <td>0.041105</td>\n",
              "      <td>-0.019052</td>\n",
              "      <td>0.194189</td>\n",
              "      <td>0.031500</td>\n",
              "      <td>-0.010784</td>\n",
              "      <td>1.000000</td>\n",
              "      <td>0.048205</td>\n",
              "      <td>0.008149</td>\n",
              "      <td>0.036316</td>\n",
              "    </tr>\n",
              "    <tr>\n",
              "      <th>drive</th>\n",
              "      <td>-0.003459</td>\n",
              "      <td>-0.118948</td>\n",
              "      <td>-0.084604</td>\n",
              "      <td>-0.113513</td>\n",
              "      <td>0.124757</td>\n",
              "      <td>0.038258</td>\n",
              "      <td>0.005105</td>\n",
              "      <td>0.048205</td>\n",
              "      <td>1.000000</td>\n",
              "      <td>-0.024032</td>\n",
              "      <td>-0.103944</td>\n",
              "    </tr>\n",
              "    <tr>\n",
              "      <th>paint_color</th>\n",
              "      <td>0.004747</td>\n",
              "      <td>-0.030790</td>\n",
              "      <td>-0.016804</td>\n",
              "      <td>-0.000919</td>\n",
              "      <td>-0.033624</td>\n",
              "      <td>-0.041036</td>\n",
              "      <td>-0.003638</td>\n",
              "      <td>0.008149</td>\n",
              "      <td>-0.024032</td>\n",
              "      <td>1.000000</td>\n",
              "      <td>0.026708</td>\n",
              "    </tr>\n",
              "    <tr>\n",
              "      <th>state</th>\n",
              "      <td>-0.003147</td>\n",
              "      <td>0.122458</td>\n",
              "      <td>0.063490</td>\n",
              "      <td>0.015843</td>\n",
              "      <td>0.019283</td>\n",
              "      <td>0.004221</td>\n",
              "      <td>0.041385</td>\n",
              "      <td>0.036316</td>\n",
              "      <td>-0.103944</td>\n",
              "      <td>0.026708</td>\n",
              "      <td>1.000000</td>\n",
              "    </tr>\n",
              "  </tbody>\n",
              "</table>\n",
              "</div>"
            ],
            "text/plain": [
              "                 price      year  manufacturer  ...     drive  paint_color     state\n",
              "price         1.000000 -0.004382     -0.006752  ... -0.003459     0.004747 -0.003147\n",
              "year         -0.004382  1.000000      0.069177  ... -0.118948    -0.030790  0.122458\n",
              "manufacturer -0.006752  0.069177      1.000000  ... -0.084604    -0.016804  0.063490\n",
              "model         0.008235  0.042713      0.040490  ... -0.113513    -0.000919  0.015843\n",
              "condition    -0.004444 -0.109740     -0.026507  ...  0.124757    -0.033624  0.019283\n",
              "fuel         -0.020615  0.036020      0.006257  ...  0.038258    -0.041036  0.004221\n",
              "title_status -0.001208  0.025964      0.048211  ...  0.005105    -0.003638  0.041385\n",
              "transmission -0.002562 -0.085660      0.041105  ...  0.048205     0.008149  0.036316\n",
              "drive        -0.003459 -0.118948     -0.084604  ...  1.000000    -0.024032 -0.103944\n",
              "paint_color   0.004747 -0.030790     -0.016804  ... -0.024032     1.000000  0.026708\n",
              "state        -0.003147  0.122458      0.063490  ... -0.103944     0.026708  1.000000\n",
              "\n",
              "[11 rows x 11 columns]"
            ]
          },
          "metadata": {
            "tags": []
          },
          "execution_count": 72
        }
      ]
    },
    {
      "cell_type": "code",
      "metadata": {
        "id": "uZP9XrjqwtuA",
        "colab_type": "code",
        "outputId": "2f394020-17d0-4f69-8eab-8707462874a0",
        "colab": {
          "base_uri": "https://localhost:8080/",
          "height": 34
        }
      },
      "source": [
        "from google.colab import drive\n",
        "drive.mount('/content/gdrive')"
      ],
      "execution_count": 79,
      "outputs": [
        {
          "output_type": "stream",
          "text": [
            "Mounted at /content/gdrive\n"
          ],
          "name": "stdout"
        }
      ]
    },
    {
      "cell_type": "code",
      "metadata": {
        "id": "rTOGAKMD1zq1",
        "colab_type": "code",
        "outputId": "e65e13b4-4348-4e54-d496-b53f681cf1fa",
        "colab": {
          "base_uri": "https://localhost:8080/",
          "height": 34
        }
      },
      "source": [
        "import pandas as pd\n",
        "df=pd.read_csv('gdrive/My Drive/used_cars_olah.csv')\n",
        "df.shape"
      ],
      "execution_count": 124,
      "outputs": [
        {
          "output_type": "execute_result",
          "data": {
            "text/plain": [
              "(20001, 12)"
            ]
          },
          "metadata": {
            "tags": []
          },
          "execution_count": 124
        }
      ]
    },
    {
      "cell_type": "code",
      "metadata": {
        "id": "CTXHn2d92Nzn",
        "colab_type": "code",
        "outputId": "be9883e4-5971-45dc-d756-b65ad8c2c4fc",
        "colab": {
          "base_uri": "https://localhost:8080/",
          "height": 204
        }
      },
      "source": [
        "df.head()"
      ],
      "execution_count": 81,
      "outputs": [
        {
          "output_type": "execute_result",
          "data": {
            "text/html": [
              "<div>\n",
              "<style scoped>\n",
              "    .dataframe tbody tr th:only-of-type {\n",
              "        vertical-align: middle;\n",
              "    }\n",
              "\n",
              "    .dataframe tbody tr th {\n",
              "        vertical-align: top;\n",
              "    }\n",
              "\n",
              "    .dataframe thead th {\n",
              "        text-align: right;\n",
              "    }\n",
              "</style>\n",
              "<table border=\"1\" class=\"dataframe\">\n",
              "  <thead>\n",
              "    <tr style=\"text-align: right;\">\n",
              "      <th></th>\n",
              "      <th>Unnamed: 0</th>\n",
              "      <th>price</th>\n",
              "      <th>year</th>\n",
              "      <th>manufacturer</th>\n",
              "      <th>model</th>\n",
              "      <th>condition</th>\n",
              "      <th>fuel</th>\n",
              "      <th>title_status</th>\n",
              "      <th>transmission</th>\n",
              "      <th>drive</th>\n",
              "      <th>paint_color</th>\n",
              "      <th>state</th>\n",
              "    </tr>\n",
              "  </thead>\n",
              "  <tbody>\n",
              "    <tr>\n",
              "      <th>0</th>\n",
              "      <td>0</td>\n",
              "      <td>17899</td>\n",
              "      <td>2012.0</td>\n",
              "      <td>38</td>\n",
              "      <td>2197</td>\n",
              "      <td>0</td>\n",
              "      <td>2</td>\n",
              "      <td>0</td>\n",
              "      <td>1</td>\n",
              "      <td>0</td>\n",
              "      <td>0</td>\n",
              "      <td>0</td>\n",
              "    </tr>\n",
              "    <tr>\n",
              "      <th>1</th>\n",
              "      <td>1</td>\n",
              "      <td>0</td>\n",
              "      <td>2016.0</td>\n",
              "      <td>12</td>\n",
              "      <td>1764</td>\n",
              "      <td>0</td>\n",
              "      <td>2</td>\n",
              "      <td>0</td>\n",
              "      <td>0</td>\n",
              "      <td>0</td>\n",
              "      <td>10</td>\n",
              "      <td>0</td>\n",
              "    </tr>\n",
              "    <tr>\n",
              "      <th>2</th>\n",
              "      <td>2</td>\n",
              "      <td>46463</td>\n",
              "      <td>2015.0</td>\n",
              "      <td>13</td>\n",
              "      <td>3285</td>\n",
              "      <td>0</td>\n",
              "      <td>2</td>\n",
              "      <td>0</td>\n",
              "      <td>0</td>\n",
              "      <td>0</td>\n",
              "      <td>10</td>\n",
              "      <td>0</td>\n",
              "    </tr>\n",
              "    <tr>\n",
              "      <th>3</th>\n",
              "      <td>3</td>\n",
              "      <td>0</td>\n",
              "      <td>2016.0</td>\n",
              "      <td>12</td>\n",
              "      <td>1764</td>\n",
              "      <td>0</td>\n",
              "      <td>2</td>\n",
              "      <td>0</td>\n",
              "      <td>0</td>\n",
              "      <td>0</td>\n",
              "      <td>10</td>\n",
              "      <td>0</td>\n",
              "    </tr>\n",
              "    <tr>\n",
              "      <th>4</th>\n",
              "      <td>4</td>\n",
              "      <td>49999</td>\n",
              "      <td>2018.0</td>\n",
              "      <td>12</td>\n",
              "      <td>1843</td>\n",
              "      <td>0</td>\n",
              "      <td>0</td>\n",
              "      <td>0</td>\n",
              "      <td>0</td>\n",
              "      <td>0</td>\n",
              "      <td>10</td>\n",
              "      <td>0</td>\n",
              "    </tr>\n",
              "  </tbody>\n",
              "</table>\n",
              "</div>"
            ],
            "text/plain": [
              "   Unnamed: 0  price    year  ...  drive  paint_color  state\n",
              "0           0  17899  2012.0  ...      0            0      0\n",
              "1           1      0  2016.0  ...      0           10      0\n",
              "2           2  46463  2015.0  ...      0           10      0\n",
              "3           3      0  2016.0  ...      0           10      0\n",
              "4           4  49999  2018.0  ...      0           10      0\n",
              "\n",
              "[5 rows x 12 columns]"
            ]
          },
          "metadata": {
            "tags": []
          },
          "execution_count": 81
        }
      ]
    },
    {
      "cell_type": "markdown",
      "metadata": {
        "id": "F3nr_-hwrsy7",
        "colab_type": "text"
      },
      "source": [
        "# Clustering"
      ]
    },
    {
      "cell_type": "markdown",
      "metadata": {
        "id": "KoUUdQgpieE7",
        "colab_type": "text"
      },
      "source": [
        "Ambil 2 kolom untuk clustering"
      ]
    },
    {
      "cell_type": "code",
      "metadata": {
        "id": "Vgdce8-gNoWe",
        "colab_type": "code",
        "colab": {}
      },
      "source": [
        "from sklearn.cluster import KMeans\n",
        "from scipy.spatial.distance import cdist"
      ],
      "execution_count": 0,
      "outputs": []
    },
    {
      "cell_type": "code",
      "metadata": {
        "id": "gPufIE0muUlJ",
        "colab_type": "code",
        "colab": {
          "base_uri": "https://localhost:8080/",
          "height": 204
        },
        "outputId": "5200d321-e338-4711-8540-3f797b57751f"
      },
      "source": [
        "df.head()"
      ],
      "execution_count": 184,
      "outputs": [
        {
          "output_type": "execute_result",
          "data": {
            "text/html": [
              "<div>\n",
              "<style scoped>\n",
              "    .dataframe tbody tr th:only-of-type {\n",
              "        vertical-align: middle;\n",
              "    }\n",
              "\n",
              "    .dataframe tbody tr th {\n",
              "        vertical-align: top;\n",
              "    }\n",
              "\n",
              "    .dataframe thead th {\n",
              "        text-align: right;\n",
              "    }\n",
              "</style>\n",
              "<table border=\"1\" class=\"dataframe\">\n",
              "  <thead>\n",
              "    <tr style=\"text-align: right;\">\n",
              "      <th></th>\n",
              "      <th>price</th>\n",
              "      <th>year</th>\n",
              "      <th>manufacturer</th>\n",
              "      <th>model</th>\n",
              "      <th>condition</th>\n",
              "      <th>fuel</th>\n",
              "      <th>title_status</th>\n",
              "      <th>transmission</th>\n",
              "      <th>drive</th>\n",
              "      <th>paint_color</th>\n",
              "      <th>state</th>\n",
              "    </tr>\n",
              "  </thead>\n",
              "  <tbody>\n",
              "    <tr>\n",
              "      <th>0</th>\n",
              "      <td>0.000015</td>\n",
              "      <td>0.922330</td>\n",
              "      <td>0.974359</td>\n",
              "      <td>0.530292</td>\n",
              "      <td>0.0</td>\n",
              "      <td>0.5</td>\n",
              "      <td>0.0</td>\n",
              "      <td>0.5</td>\n",
              "      <td>0.0</td>\n",
              "      <td>0.000000</td>\n",
              "      <td>0.0</td>\n",
              "    </tr>\n",
              "    <tr>\n",
              "      <th>1</th>\n",
              "      <td>0.000000</td>\n",
              "      <td>0.961165</td>\n",
              "      <td>0.307692</td>\n",
              "      <td>0.425778</td>\n",
              "      <td>0.0</td>\n",
              "      <td>0.5</td>\n",
              "      <td>0.0</td>\n",
              "      <td>0.0</td>\n",
              "      <td>0.0</td>\n",
              "      <td>0.909091</td>\n",
              "      <td>0.0</td>\n",
              "    </tr>\n",
              "    <tr>\n",
              "      <th>2</th>\n",
              "      <td>0.000040</td>\n",
              "      <td>0.951456</td>\n",
              "      <td>0.333333</td>\n",
              "      <td>0.792904</td>\n",
              "      <td>0.0</td>\n",
              "      <td>0.5</td>\n",
              "      <td>0.0</td>\n",
              "      <td>0.0</td>\n",
              "      <td>0.0</td>\n",
              "      <td>0.909091</td>\n",
              "      <td>0.0</td>\n",
              "    </tr>\n",
              "    <tr>\n",
              "      <th>3</th>\n",
              "      <td>0.000000</td>\n",
              "      <td>0.961165</td>\n",
              "      <td>0.307692</td>\n",
              "      <td>0.425778</td>\n",
              "      <td>0.0</td>\n",
              "      <td>0.5</td>\n",
              "      <td>0.0</td>\n",
              "      <td>0.0</td>\n",
              "      <td>0.0</td>\n",
              "      <td>0.909091</td>\n",
              "      <td>0.0</td>\n",
              "    </tr>\n",
              "    <tr>\n",
              "      <th>4</th>\n",
              "      <td>0.000043</td>\n",
              "      <td>0.980583</td>\n",
              "      <td>0.307692</td>\n",
              "      <td>0.444847</td>\n",
              "      <td>0.0</td>\n",
              "      <td>0.0</td>\n",
              "      <td>0.0</td>\n",
              "      <td>0.0</td>\n",
              "      <td>0.0</td>\n",
              "      <td>0.909091</td>\n",
              "      <td>0.0</td>\n",
              "    </tr>\n",
              "  </tbody>\n",
              "</table>\n",
              "</div>"
            ],
            "text/plain": [
              "      price      year  manufacturer  ...  drive  paint_color  state\n",
              "0  0.000015  0.922330      0.974359  ...    0.0     0.000000    0.0\n",
              "1  0.000000  0.961165      0.307692  ...    0.0     0.909091    0.0\n",
              "2  0.000040  0.951456      0.333333  ...    0.0     0.909091    0.0\n",
              "3  0.000000  0.961165      0.307692  ...    0.0     0.909091    0.0\n",
              "4  0.000043  0.980583      0.307692  ...    0.0     0.909091    0.0\n",
              "\n",
              "[5 rows x 11 columns]"
            ]
          },
          "metadata": {
            "tags": []
          },
          "execution_count": 184
        }
      ]
    },
    {
      "cell_type": "code",
      "metadata": {
        "id": "IAjQplmV-thZ",
        "colab_type": "code",
        "outputId": "79afa695-da51-4621-e9ac-9c3393314c05",
        "colab": {
          "base_uri": "https://localhost:8080/",
          "height": 255
        }
      },
      "source": [
        "#transmission ,fuel\n",
        "print(df.iloc[:, [2, 9]])\n",
        "cluster = df.iloc[:, [2, 9]].values"
      ],
      "execution_count": 230,
      "outputs": [
        {
          "output_type": "stream",
          "text": [
            "       manufacturer  paint_color\n",
            "0          0.974359     0.000000\n",
            "1          0.307692     0.909091\n",
            "2          0.333333     0.909091\n",
            "3          0.307692     0.909091\n",
            "4          0.307692     0.909091\n",
            "...             ...          ...\n",
            "19996      0.820513     0.454545\n",
            "19997      0.743590     0.909091\n",
            "19998      0.487179     0.909091\n",
            "19999      0.948718     0.909091\n",
            "20000      0.948718     0.000000\n",
            "\n",
            "[20001 rows x 2 columns]\n"
          ],
          "name": "stdout"
        }
      ]
    },
    {
      "cell_type": "markdown",
      "metadata": {
        "id": "epZUAiSQii5B",
        "colab_type": "text"
      },
      "source": [
        "Cari nilai K menggunakan elbow method"
      ]
    },
    {
      "cell_type": "code",
      "metadata": {
        "id": "HsQQR4q1Gthk",
        "colab_type": "code",
        "colab": {}
      },
      "source": [
        "from matplotlib import pyplot as plt\n",
        "import numpy as np\n",
        "\n",
        "distortions = []\n",
        "K = range(1,10)\n",
        "for i in K:\n",
        "  kmeanModel = KMeans(n_clusters=i).fit(cluster)\n",
        "  kmeanModel.fit(cluster)\n",
        "  distortions.append(sum(np.min(cdist(cluster, kmeanModel.cluster_centers_, 'euclidean'), axis=1)) /cluster.shape[0] ) "
      ],
      "execution_count": 0,
      "outputs": []
    },
    {
      "cell_type": "code",
      "metadata": {
        "id": "M3GCpllEIIiK",
        "colab_type": "code",
        "outputId": "69c87219-f9d9-4193-f0ad-531dbf4ff63d",
        "colab": {
          "base_uri": "https://localhost:8080/",
          "height": 438
        }
      },
      "source": [
        "#plot elbow method\n",
        "plt.plot(K, distortions, 'bx-')\n",
        "plt.xlabel('values of k')\n",
        "plt.ylabel('distortion')\n",
        "plt.title('The Elbow Method using Distortion')\n",
        "fig = plt.figure(figsize=(5, 5))\n",
        "plt.show\n",
        "\n",
        "# from sklearn.cluster import KMeans #hanya digunakan untuk elbow method\n",
        "\n",
        "# wcss = []\n",
        "\n",
        "# for i in range(1, 10):\n",
        "#     kmeans = (\n",
        "#         KMeans(n_clusters=i, init='k-means++', \n",
        "#                max_iter=100, n_init=10, random_state=0)\n",
        "#     )\n",
        "#     kmeans.fit(cluster)\n",
        "#     wcss.append(kmeans.inertia_)\n",
        "\n",
        "# plt.plot(range(1, 10), wcss, '-bx')\n",
        "# plt.title('Elbow Method')\n",
        "# plt.xlabel('Number of clusters')\n",
        "# plt.ylabel('WCSS')\n",
        "# plt.show()"
      ],
      "execution_count": 187,
      "outputs": [
        {
          "output_type": "execute_result",
          "data": {
            "text/plain": [
              "<function matplotlib.pyplot.show>"
            ]
          },
          "metadata": {
            "tags": []
          },
          "execution_count": 187
        },
        {
          "output_type": "display_data",
          "data": {
            "image/png": "[encoded data removed]",
            "text/plain": [
              "<Figure size 600x400 with 1 Axes>"
            ]
          },
          "metadata": {
            "tags": []
          }
        },
        {
          "output_type": "display_data",
          "data": {
            "text/plain": [
              "<Figure size 500x500 with 0 Axes>"
            ]
          },
          "metadata": {
            "tags": []
          }
        }
      ]
    },
    {
      "cell_type": "code",
      "metadata": {
        "id": "MCYmv4F6SnGC",
        "colab_type": "code",
        "outputId": "d6f53d2f-d5cd-4933-933c-ed0ba390517e",
        "colab": {
          "base_uri": "https://localhost:8080/",
          "height": 34
        }
      },
      "source": [
        "cluster.shape"
      ],
      "execution_count": 181,
      "outputs": [
        {
          "output_type": "execute_result",
          "data": {
            "text/plain": [
              "(20001, 2)"
            ]
          },
          "metadata": {
            "tags": []
          },
          "execution_count": 181
        }
      ]
    },
    {
      "cell_type": "markdown",
      "metadata": {
        "id": "HSWvhzr6SCtA",
        "colab_type": "text"
      },
      "source": [
        "## Nilai K = 3"
      ]
    },
    {
      "cell_type": "code",
      "metadata": {
        "id": "vjOcOaOGBIPj",
        "colab_type": "code",
        "colab": {}
      },
      "source": [
        "# Inisiasi nilai K\n",
        "K = 3"
      ],
      "execution_count": 0,
      "outputs": []
    },
    {
      "cell_type": "markdown",
      "metadata": {
        "id": "CUQGTdfqip5j",
        "colab_type": "text"
      },
      "source": [
        "Plot sebaran data"
      ]
    },
    {
      "cell_type": "code",
      "metadata": {
        "id": "utsdWyNDdFu_",
        "colab_type": "code",
        "outputId": "bc7118ee-1546-4df5-eb06-895959a4d044",
        "colab": {
          "base_uri": "https://localhost:8080/",
          "height": 362
        }
      },
      "source": [
        "import matplotlib.pyplot as plt\n",
        "plt.scatter(cluster[ : , 0], cluster[ :, 1], s = 50, c = 'b')\n",
        "plt.show()"
      ],
      "execution_count": 231,
      "outputs": [
        {
          "output_type": "display_data",
          "data": {
            "image/png": "[encoded data removed]",
            "text/plain": [
              "<Figure size 600x400 with 1 Axes>"
            ]
          },
          "metadata": {
            "tags": []
          }
        }
      ]
    },
    {
      "cell_type": "markdown",
      "metadata": {
        "id": "-0ovcl1FAS8E",
        "colab_type": "text"
      },
      "source": [
        "Buat centroid random"
      ]
    },
    {
      "cell_type": "code",
      "metadata": {
        "id": "93Cgu-vMcEfZ",
        "colab_type": "code",
        "colab": {}
      },
      "source": [
        "# Inisiasi kolom yang dipakai \n",
        "dx = cluster[ : , 0].tolist()\n",
        "dy = cluster[ : , 1].tolist()"
      ],
      "execution_count": 0,
      "outputs": []
    },
    {
      "cell_type": "code",
      "metadata": {
        "id": "v9ztPA77BkYp",
        "colab_type": "code",
        "colab": {}
      },
      "source": [
        "# Menggabungkan data kolom manufacture dan paint_color\n",
        "titik = list(zip(dx, dy))"
      ],
      "execution_count": 0,
      "outputs": []
    },
    {
      "cell_type": "code",
      "metadata": {
        "id": "rj-oMyo2CIS-",
        "colab_type": "code",
        "colab": {}
      },
      "source": [
        "import random"
      ],
      "execution_count": 0,
      "outputs": []
    },
    {
      "cell_type": "code",
      "metadata": {
        "id": "eH4kLUd_DXn_",
        "colab_type": "code",
        "colab": {}
      },
      "source": [
        "def cekcentroid(centroid1,centroid2): \n",
        "  cobax = random.uniform(0,1)\n",
        "  cobay = random.uniform(0,1)\n",
        "  if (cobax!=centroid1[0]) and (cobay!=centroid1[1]) and (centroid2==0):\n",
        "    centroid2 = [cobax,cobay]\n",
        "    return centroid2\n",
        "  elif(cobax!=centroid1[0]) and (cobay!=centroid1[1]) and (cobax!=centroid2[0]) and (cobay!=centroid2[1]):\n",
        "    centroid3 = [cobax,cobay]\n",
        "    return centroid3"
      ],
      "execution_count": 0,
      "outputs": []
    },
    {
      "cell_type": "code",
      "metadata": {
        "id": "Wlbi_ZIrrKYU",
        "colab_type": "code",
        "outputId": "604e9029-9ea6-45cc-fc8c-e2ab13c936b5",
        "colab": {
          "base_uri": "https://localhost:8080/",
          "height": 68
        }
      },
      "source": [
        "cobax = random.uniform(0,1)\n",
        "cobay = random.uniform(0,1)\n",
        "centroid1 = [cobax,cobay]\n",
        "centroid2 = cekcentroid(centroid1,0)\n",
        "centroid3 = cekcentroid(centroid1,centroid2)\n",
        "print(centroid1)\n",
        "print(centroid2)\n",
        "print(centroid3)"
      ],
      "execution_count": 239,
      "outputs": [
        {
          "output_type": "stream",
          "text": [
            "[0.9386242974178677, 0.24201020387356642]\n",
            "[0.6261423349107271, 0.14347130274277986]\n",
            "[0.4095934953649084, 0.015006221754384153]\n"
          ],
          "name": "stdout"
        }
      ]
    },
    {
      "cell_type": "code",
      "metadata": {
        "id": "ZVCeDp1wHPw2",
        "colab_type": "code",
        "outputId": "9a164e18-9c18-4d0c-98fa-e9985ecce207",
        "colab": {
          "base_uri": "https://localhost:8080/",
          "height": 399
        }
      },
      "source": [
        "plt.scatter(dx, dy, s = 10, c = 'b')\n",
        "plt.scatter(centroid1[0], centroid1[1], c='r')\n",
        "plt.scatter(centroid2[0], centroid2[1], c='y')\n",
        "plt.scatter(centroid3[0], centroid3[1], c='black')\n",
        "plt.xlabel('manufacturer')\n",
        "plt.ylabel('paint_color')"
      ],
      "execution_count": 240,
      "outputs": [
        {
          "output_type": "execute_result",
          "data": {
            "text/plain": [
              "Text(0, 0.5, 'paint_color')"
            ]
          },
          "metadata": {
            "tags": []
          },
          "execution_count": 240
        },
        {
          "output_type": "display_data",
          "data": {
            "image/png": "[encoded data removed]",
            "text/plain": [
              "<Figure size 600x400 with 1 Axes>"
            ]
          },
          "metadata": {
            "tags": []
          }
        }
      ]
    },
    {
      "cell_type": "markdown",
      "metadata": {
        "id": "q_oMgZBxI-By",
        "colab_type": "text"
      },
      "source": [
        "Perulangan untuk centroid dengan euclidian"
      ]
    },
    {
      "cell_type": "code",
      "metadata": {
        "id": "JXbB6pEOTeVH",
        "colab_type": "code",
        "colab": {}
      },
      "source": [
        "import math"
      ],
      "execution_count": 0,
      "outputs": []
    },
    {
      "cell_type": "code",
      "metadata": {
        "id": "613pWacaIPOs",
        "colab_type": "code",
        "outputId": "0accb0ff-15b0-4c71-850b-50a2763b1a16",
        "colab": {
          "base_uri": "https://localhost:8080/",
          "height": 399
        }
      },
      "source": [
        "cek = False\n",
        "while cek != True:\n",
        "  clusterfix = []\n",
        "  # Proses menklusterkan\n",
        "  #clusAr = kolomA RED, clusAy = kolomA YELLOW, clusAb = kolomA BLACK\n",
        "  clusAr, clusAy, clusAb = [], [], []\n",
        "  clusBr, clusBy, clusBb = [], [], []\n",
        "  for i in titik:\n",
        "    # Menghitung jarak 2 titik dengan Euclidian Distance\n",
        "    #jarak antara titik i dengan centroid pertama (red))\n",
        "    hitung1 = math.sqrt((i[0] - centroid1[0])**2 + (i[1] - centroid1[1])**2)\n",
        "    #jarak antara titik i dengan centroid kedua (yellow)\n",
        "    hitung2 = math.sqrt((i[0] - centroid2[0])**2 + (i[1] - centroid2[1])**2)\n",
        "    #jarak antara titik i dengan centroid ketiga (black)\n",
        "    hitung3 = math.sqrt((i[0] - centroid3[0])**2 + (i[1] - centroid3[1])**2)\n",
        "\n",
        "    if min(hitung1, hitung2, hitung3) == hitung1:\n",
        "      # red titik\n",
        "      clusAr.append(i[0])\n",
        "      clusBr.append(i[1])\n",
        "      # titik AB masuk diklaster 1\n",
        "      clusterfix.append(1)\n",
        "    elif min(hitung1, hitung2, hitung3) == hitung2:\n",
        "      # yellow titik\n",
        "      clusAy.append(i[0])\n",
        "      clusBy.append(i[1])\n",
        "      # titik AB masuk diklaster 2\n",
        "      clusterfix.append(2)\n",
        "    elif min(hitung1, hitung2, hitung3) == hitung3:\n",
        "      # black titik\n",
        "      clusAb.append(i[0])\n",
        "      clusBb.append(i[1])\n",
        "      # titik AB masuk diklaster 3\n",
        "      clusterfix.append(3)\n",
        "  #endfor\n",
        "\n",
        "  # a,b,c untuk menyimpan centroid sebelumnya\n",
        "  a = centroid1\n",
        "  b = centroid2\n",
        "  c = centroid3\n",
        "\n",
        "  # Update centroid menghitung rata rata jarak di cluster tersebut\n",
        "  centroid1 = [sum(clusAr)/len(clusAr), sum(clusBr)/len(clusBr)]\n",
        "  centroid2 = [sum(clusAy)/len(clusAy), sum(clusBy)/len(clusBy)]\n",
        "  centroid3 = [sum(clusAb)/len(clusAb), sum(clusBb)/len(clusBb)]\n",
        "\n",
        "  # Cek apakah centroid tetap atau berubah\n",
        "  if (centroid1 == a) and (centroid2 == b) and (centroid3 == c):\n",
        "    cek = True\n",
        "\n",
        "#endwhile\n",
        "\n",
        "# plt.scatter(dx, dy, s = 10, c = 'b')\n",
        "plt.scatter(clusAr, clusBr, c='r')\n",
        "plt.scatter(clusAy, clusBy, c='y')\n",
        "plt.scatter(clusAb, clusBb, c='black')\n",
        "plt.xlabel('manufacturer')\n",
        "plt.ylabel('paint_color')"
      ],
      "execution_count": 242,
      "outputs": [
        {
          "output_type": "execute_result",
          "data": {
            "text/plain": [
              "Text(0, 0.5, 'paint_color')"
            ]
          },
          "metadata": {
            "tags": []
          },
          "execution_count": 242
        },
        {
          "output_type": "display_data",
          "data": {
            "image/png": "[encoded data removed]",
            "text/plain": [
              "<Figure size 600x400 with 1 Axes>"
            ]
          },
          "metadata": {
            "tags": []
          }
        }
      ]
    },
    {
      "cell_type": "code",
      "metadata": {
        "id": "8GY66GIlyuFh",
        "colab_type": "code",
        "outputId": "23d8e86c-06ae-473b-94dd-eef049ba2475",
        "colab": {
          "base_uri": "https://localhost:8080/",
          "height": 34
        }
      },
      "source": [
        "print(len(clusterfix))"
      ],
      "execution_count": 0,
      "outputs": [
        {
          "output_type": "stream",
          "text": [
            "20001\n"
          ],
          "name": "stdout"
        }
      ]
    },
    {
      "cell_type": "markdown",
      "metadata": {
        "id": "ADLlLnLuu9q3",
        "colab_type": "text"
      },
      "source": [
        "### Evaluasi"
      ]
    },
    {
      "cell_type": "code",
      "metadata": {
        "id": "IPIMuEvbvAvu",
        "colab_type": "code",
        "colab": {
          "base_uri": "https://localhost:8080/",
          "height": 85
        },
        "outputId": "edb1b490-72a1-497d-bdb5-bdba80a4d155"
      },
      "source": [
        "# Menggunakan SSE\n",
        "#centroid1 red\n",
        "jumlah1 = 0\n",
        "for i in range(len(clusAr)):\n",
        "  jarakcentro = (clusAr[i]-centroid1[0])**2 + (clusBr[i]-centroid1[1])**2\n",
        "  jumlah1 = jumlah1 + jarakcentro\n",
        "print(jumlah1)\n",
        "#centroid2 yellow\n",
        "jumlah2 = 0\n",
        "for i in range(len(clusAy)):\n",
        "  jarakcentro = (clusAy[i]-centroid2[0])**2 + (clusBy[i]-centroid2[1])**2\n",
        "  jumlah2 = jumlah2 + jarakcentro\n",
        "print(jumlah2)\n",
        "#centroid3 black\n",
        "jumlah3 = 0\n",
        "for i in range(len(clusAb)):\n",
        "  jarakcentro = (clusAb[i]-centroid3[0])**2 + (clusBb[i]-centroid3[1])**2\n",
        "  jumlah3 = jumlah3 + jarakcentro\n",
        "print(jumlah3)\n",
        "SSE = jumlah1 + jumlah2 + jumlah3\n",
        "print(\"SSE =\", SSE)"
      ],
      "execution_count": 211,
      "outputs": [
        {
          "output_type": "stream",
          "text": [
            "217.57990036835747\n",
            "180.2812857968259\n",
            "602.6083733062269\n",
            "SSE = 1000.4695594714103\n"
          ],
          "name": "stdout"
        }
      ]
    },
    {
      "cell_type": "code",
      "metadata": {
        "id": "96r6URwXKQaZ",
        "colab_type": "code",
        "colab": {}
      },
      "source": [
        "clusterfix = pd.DataFrame(clusterfix, columns=['Cluster'])\n",
        "result = df.join(clusterfix)"
      ],
      "execution_count": 0,
      "outputs": []
    },
    {
      "cell_type": "code",
      "metadata": {
        "id": "CcFpwR6AbGcp",
        "colab_type": "code",
        "outputId": "464536fe-23bc-4833-df3f-5eb52c65236d",
        "colab": {
          "base_uri": "https://localhost:8080/",
          "height": 204
        }
      },
      "source": [
        "result.head()"
      ],
      "execution_count": 0,
      "outputs": [
        {
          "output_type": "execute_result",
          "data": {
            "text/html": [
              "<div>\n",
              "<style scoped>\n",
              "    .dataframe tbody tr th:only-of-type {\n",
              "        vertical-align: middle;\n",
              "    }\n",
              "\n",
              "    .dataframe tbody tr th {\n",
              "        vertical-align: top;\n",
              "    }\n",
              "\n",
              "    .dataframe thead th {\n",
              "        text-align: right;\n",
              "    }\n",
              "</style>\n",
              "<table border=\"1\" class=\"dataframe\">\n",
              "  <thead>\n",
              "    <tr style=\"text-align: right;\">\n",
              "      <th></th>\n",
              "      <th>Unnamed: 0</th>\n",
              "      <th>price</th>\n",
              "      <th>year</th>\n",
              "      <th>manufacturer</th>\n",
              "      <th>model</th>\n",
              "      <th>condition</th>\n",
              "      <th>fuel</th>\n",
              "      <th>title_status</th>\n",
              "      <th>transmission</th>\n",
              "      <th>drive</th>\n",
              "      <th>paint_color</th>\n",
              "      <th>state</th>\n",
              "      <th>Cluster</th>\n",
              "    </tr>\n",
              "  </thead>\n",
              "  <tbody>\n",
              "    <tr>\n",
              "      <th>0</th>\n",
              "      <td>0</td>\n",
              "      <td>0.000015</td>\n",
              "      <td>0.922330</td>\n",
              "      <td>0.974359</td>\n",
              "      <td>0.530292</td>\n",
              "      <td>0.0</td>\n",
              "      <td>0.5</td>\n",
              "      <td>0.0</td>\n",
              "      <td>0.5</td>\n",
              "      <td>0.0</td>\n",
              "      <td>0.000000</td>\n",
              "      <td>0.0</td>\n",
              "      <td>1</td>\n",
              "    </tr>\n",
              "    <tr>\n",
              "      <th>1</th>\n",
              "      <td>1</td>\n",
              "      <td>0.000000</td>\n",
              "      <td>0.961165</td>\n",
              "      <td>0.307692</td>\n",
              "      <td>0.425778</td>\n",
              "      <td>0.0</td>\n",
              "      <td>0.5</td>\n",
              "      <td>0.0</td>\n",
              "      <td>0.0</td>\n",
              "      <td>0.0</td>\n",
              "      <td>0.909091</td>\n",
              "      <td>0.0</td>\n",
              "      <td>2</td>\n",
              "    </tr>\n",
              "    <tr>\n",
              "      <th>2</th>\n",
              "      <td>2</td>\n",
              "      <td>0.000040</td>\n",
              "      <td>0.951456</td>\n",
              "      <td>0.333333</td>\n",
              "      <td>0.792904</td>\n",
              "      <td>0.0</td>\n",
              "      <td>0.5</td>\n",
              "      <td>0.0</td>\n",
              "      <td>0.0</td>\n",
              "      <td>0.0</td>\n",
              "      <td>0.909091</td>\n",
              "      <td>0.0</td>\n",
              "      <td>2</td>\n",
              "    </tr>\n",
              "    <tr>\n",
              "      <th>3</th>\n",
              "      <td>3</td>\n",
              "      <td>0.000000</td>\n",
              "      <td>0.961165</td>\n",
              "      <td>0.307692</td>\n",
              "      <td>0.425778</td>\n",
              "      <td>0.0</td>\n",
              "      <td>0.5</td>\n",
              "      <td>0.0</td>\n",
              "      <td>0.0</td>\n",
              "      <td>0.0</td>\n",
              "      <td>0.909091</td>\n",
              "      <td>0.0</td>\n",
              "      <td>2</td>\n",
              "    </tr>\n",
              "    <tr>\n",
              "      <th>4</th>\n",
              "      <td>4</td>\n",
              "      <td>0.000043</td>\n",
              "      <td>0.980583</td>\n",
              "      <td>0.307692</td>\n",
              "      <td>0.444847</td>\n",
              "      <td>0.0</td>\n",
              "      <td>0.0</td>\n",
              "      <td>0.0</td>\n",
              "      <td>0.0</td>\n",
              "      <td>0.0</td>\n",
              "      <td>0.909091</td>\n",
              "      <td>0.0</td>\n",
              "      <td>2</td>\n",
              "    </tr>\n",
              "  </tbody>\n",
              "</table>\n",
              "</div>"
            ],
            "text/plain": [
              "   Unnamed: 0     price      year  ...  paint_color  state  Cluster\n",
              "0           0  0.000015  0.922330  ...     0.000000    0.0        1\n",
              "1           1  0.000000  0.961165  ...     0.909091    0.0        2\n",
              "2           2  0.000040  0.951456  ...     0.909091    0.0        2\n",
              "3           3  0.000000  0.961165  ...     0.909091    0.0        2\n",
              "4           4  0.000043  0.980583  ...     0.909091    0.0        2\n",
              "\n",
              "[5 rows x 13 columns]"
            ]
          },
          "metadata": {
            "tags": []
          },
          "execution_count": 257
        }
      ]
    },
    {
      "cell_type": "code",
      "metadata": {
        "id": "XfsM2plgfH6J",
        "colab_type": "code",
        "colab": {}
      },
      "source": [
        "result = result.drop([\"Unnamed: 0\",\"price\",\"year\",\"model\",\"condition\",\"fuel\",\"title_status\",\"transmission\",\"drive\",\"state\"], axis = 1)"
      ],
      "execution_count": 0,
      "outputs": []
    },
    {
      "cell_type": "code",
      "metadata": {
        "id": "6K_zWKkhgnVd",
        "colab_type": "code",
        "outputId": "63b54f24-73b4-4c52-b774-c9c714092fe1",
        "colab": {
          "base_uri": "https://localhost:8080/",
          "height": 204
        }
      },
      "source": [
        "result.head()"
      ],
      "execution_count": 0,
      "outputs": [
        {
          "output_type": "execute_result",
          "data": {
            "text/html": [
              "<div>\n",
              "<style scoped>\n",
              "    .dataframe tbody tr th:only-of-type {\n",
              "        vertical-align: middle;\n",
              "    }\n",
              "\n",
              "    .dataframe tbody tr th {\n",
              "        vertical-align: top;\n",
              "    }\n",
              "\n",
              "    .dataframe thead th {\n",
              "        text-align: right;\n",
              "    }\n",
              "</style>\n",
              "<table border=\"1\" class=\"dataframe\">\n",
              "  <thead>\n",
              "    <tr style=\"text-align: right;\">\n",
              "      <th></th>\n",
              "      <th>manufacturer</th>\n",
              "      <th>paint_color</th>\n",
              "      <th>Cluster</th>\n",
              "    </tr>\n",
              "  </thead>\n",
              "  <tbody>\n",
              "    <tr>\n",
              "      <th>0</th>\n",
              "      <td>0.974359</td>\n",
              "      <td>0.000000</td>\n",
              "      <td>1</td>\n",
              "    </tr>\n",
              "    <tr>\n",
              "      <th>1</th>\n",
              "      <td>0.307692</td>\n",
              "      <td>0.909091</td>\n",
              "      <td>2</td>\n",
              "    </tr>\n",
              "    <tr>\n",
              "      <th>2</th>\n",
              "      <td>0.333333</td>\n",
              "      <td>0.909091</td>\n",
              "      <td>2</td>\n",
              "    </tr>\n",
              "    <tr>\n",
              "      <th>3</th>\n",
              "      <td>0.307692</td>\n",
              "      <td>0.909091</td>\n",
              "      <td>2</td>\n",
              "    </tr>\n",
              "    <tr>\n",
              "      <th>4</th>\n",
              "      <td>0.307692</td>\n",
              "      <td>0.909091</td>\n",
              "      <td>2</td>\n",
              "    </tr>\n",
              "  </tbody>\n",
              "</table>\n",
              "</div>"
            ],
            "text/plain": [
              "   manufacturer  paint_color  Cluster\n",
              "0      0.974359     0.000000        1\n",
              "1      0.307692     0.909091        2\n",
              "2      0.333333     0.909091        2\n",
              "3      0.307692     0.909091        2\n",
              "4      0.307692     0.909091        2"
            ]
          },
          "metadata": {
            "tags": []
          },
          "execution_count": 259
        }
      ]
    },
    {
      "cell_type": "code",
      "metadata": {
        "id": "JJqehonSgpb9",
        "colab_type": "code",
        "colab": {}
      },
      "source": [
        "result.to_csv('gdrive/My Drive/used_cars_cluster.csv')"
      ],
      "execution_count": 0,
      "outputs": []
    },
    {
      "cell_type": "code",
      "metadata": {
        "id": "PjarryTXg1uz",
        "colab_type": "code",
        "colab": {}
      },
      "source": [
        ""
      ],
      "execution_count": 0,
      "outputs": []
    },
    {
      "cell_type": "markdown",
      "metadata": {
        "id": "kaIHy1-WuJnP",
        "colab_type": "text"
      },
      "source": [
        ""
      ]
    },
    {
      "cell_type": "code",
      "metadata": {
        "id": "cnx7RUMQuK8F",
        "colab_type": "code",
        "colab": {}
      },
      "source": [
        ""
      ],
      "execution_count": 0,
      "outputs": []
    },
    {
      "cell_type": "markdown",
      "metadata": {
        "id": "zkhqI4vGR9BV",
        "colab_type": "text"
      },
      "source": [
        "## Nilai K = 2"
      ]
    },
    {
      "cell_type": "code",
      "metadata": {
        "colab_type": "code",
        "id": "3__KUQ5SSR1f",
        "colab": {}
      },
      "source": [
        "# Inisiasi nilai K\n",
        "K = 2"
      ],
      "execution_count": 0,
      "outputs": []
    },
    {
      "cell_type": "code",
      "metadata": {
        "id": "cZsWzSx13EPh",
        "colab_type": "code",
        "colab": {}
      },
      "source": [
        "cluster = df.iloc[:, [2, 9]].values"
      ],
      "execution_count": 0,
      "outputs": []
    },
    {
      "cell_type": "markdown",
      "metadata": {
        "colab_type": "text",
        "id": "e7JKI6KxSR2t"
      },
      "source": [
        "Plot sebaran data"
      ]
    },
    {
      "cell_type": "code",
      "metadata": {
        "colab_type": "code",
        "outputId": "faa73b0b-23db-4c53-bfae-b503c0cebf57",
        "id": "5ppwDgIaSR2z",
        "colab": {
          "base_uri": "https://localhost:8080/",
          "height": 362
        }
      },
      "source": [
        "import matplotlib.pyplot as plt\n",
        "plt.scatter(cluster[ : , 0], cluster[ :, 1], s = 50, c = 'b')\n",
        "plt.show()"
      ],
      "execution_count": 245,
      "outputs": [
        {
          "output_type": "display_data",
          "data": {
            "image/png": "[encoded data removed]",
            "text/plain": [
              "<Figure size 600x400 with 1 Axes>"
            ]
          },
          "metadata": {
            "tags": []
          }
        }
      ]
    },
    {
      "cell_type": "code",
      "metadata": {
        "colab_type": "code",
        "id": "-Ejq7I4aSR3M",
        "outputId": "7a25b1cd-5b8f-44d1-925e-8eb5070ff5e4",
        "colab": {
          "base_uri": "https://localhost:8080/",
          "height": 51
        }
      },
      "source": [
        "# Inisiasi kolom yang dipakai \n",
        "dx = cluster[ : , 0].tolist()\n",
        "dy = cluster[ : , 1].tolist()\n",
        "print(max(dx))\n",
        "print(max(dy))"
      ],
      "execution_count": 246,
      "outputs": [
        {
          "output_type": "stream",
          "text": [
            "1.0\n",
            "1.0\n"
          ],
          "name": "stdout"
        }
      ]
    },
    {
      "cell_type": "code",
      "metadata": {
        "colab_type": "code",
        "id": "mum2SPMVSR3Y",
        "colab": {}
      },
      "source": [
        "# Menggabungkan data kolom manufacture dan paint_color\n",
        "titik = list(zip(dx, dy))"
      ],
      "execution_count": 0,
      "outputs": []
    },
    {
      "cell_type": "code",
      "metadata": {
        "colab_type": "code",
        "id": "qy60slBqSR3l",
        "colab": {}
      },
      "source": [
        "import random"
      ],
      "execution_count": 0,
      "outputs": []
    },
    {
      "cell_type": "code",
      "metadata": {
        "colab_type": "code",
        "id": "wxZLabGMSR3y",
        "colab": {}
      },
      "source": [
        "def cekcentroid(centroid1,centroid2): \n",
        "  cobax = random.uniform(0,1)\n",
        "  cobay = random.uniform(0,1)\n",
        "  if (cobax!=centroid1[0]) and (cobay!=centroid1[1]) and (centroid2==0):\n",
        "    centroid2 = [cobax,cobay]\n",
        "    return centroid2\n",
        "  # elif(cobax!=centroid1[0]) and (cobay!=centroid1[1]) and (cobax!=centroid2[0]) and (cobay!=centroid2[1]):\n",
        "  #   centroid3 = [cobax,cobay]\n",
        "  #   return centroid3"
      ],
      "execution_count": 0,
      "outputs": []
    },
    {
      "cell_type": "code",
      "metadata": {
        "colab_type": "code",
        "outputId": "e8ba9c06-51a1-4691-e652-efef294ec9fd",
        "id": "_0V1yZKCSR4C",
        "colab": {
          "base_uri": "https://localhost:8080/",
          "height": 51
        }
      },
      "source": [
        "cobax = random.uniform(0,1)\n",
        "cobay = random.uniform(0,1)\n",
        "centroid1 = [cobax,cobay]\n",
        "centroid2 = cekcentroid(centroid1,0)\n",
        "# centroid3 = cekcentroid(centroid1,centroid2)\n",
        "print(centroid1)\n",
        "print(centroid2)\n",
        "# print(centroid3)"
      ],
      "execution_count": 249,
      "outputs": [
        {
          "output_type": "stream",
          "text": [
            "[0.22148363945553817, 0.3490041291563627]\n",
            "[0.260378671685339, 0.24427957637963782]\n"
          ],
          "name": "stdout"
        }
      ]
    },
    {
      "cell_type": "code",
      "metadata": {
        "colab_type": "code",
        "outputId": "69321dfe-a114-44dd-9817-3a1b56c2693d",
        "id": "3nrK3tCnSR4T",
        "colab": {
          "base_uri": "https://localhost:8080/",
          "height": 399
        }
      },
      "source": [
        "plt.scatter(dx, dy, s = 10, c = 'b')\n",
        "plt.scatter(centroid1[0], centroid1[1], c='r')\n",
        "plt.scatter(centroid2[0], centroid2[1], c='y')\n",
        "# plt.scatter(centroid3[0], centroid3[1], c='black')\n",
        "plt.xlabel('manufacturer')\n",
        "plt.ylabel('paint_color')"
      ],
      "execution_count": 250,
      "outputs": [
        {
          "output_type": "execute_result",
          "data": {
            "text/plain": [
              "Text(0, 0.5, 'paint_color')"
            ]
          },
          "metadata": {
            "tags": []
          },
          "execution_count": 250
        },
        {
          "output_type": "display_data",
          "data": {
            "image/png": "[encoded data removed]",
            "text/plain": [
              "<Figure size 600x400 with 1 Axes>"
            ]
          },
          "metadata": {
            "tags": []
          }
        }
      ]
    },
    {
      "cell_type": "code",
      "metadata": {
        "colab_type": "code",
        "id": "B21KXSMgSR4j",
        "colab": {}
      },
      "source": [
        "import math"
      ],
      "execution_count": 0,
      "outputs": []
    },
    {
      "cell_type": "code",
      "metadata": {
        "colab_type": "code",
        "outputId": "b7238060-3269-4ee3-e29b-ba6b1df6c56b",
        "id": "hqHgkTvySR41",
        "colab": {
          "base_uri": "https://localhost:8080/",
          "height": 399
        }
      },
      "source": [
        "cek = False\n",
        "while cek != True:\n",
        "  # Proses menklusterkan\n",
        "  #clusAr = kolomA RED, clusAy = kolomA YELLOW, \n",
        "  clusAr, clusAy = [], []\n",
        "  clusBr, clusBy = [], []\n",
        "  clusterfix = []\n",
        "  for i in titik:\n",
        "    # Menghitung jarak 2 titik dengan Euclidian Distance\n",
        "    #jarak antara titik i dengan centroid pertama (red))\n",
        "    hitung1 = math.sqrt((i[0] - centroid1[0])**2 + (i[1] - centroid1[1])**2)\n",
        "    #jarak antara titik i dengan centroid kedua (yellow)\n",
        "    hitung2 = math.sqrt((i[0] - centroid2[0])**2 + (i[1] - centroid2[1])**2)\n",
        "\n",
        "    if min(hitung1, hitung2) == hitung1:\n",
        "      # red\n",
        "      clusAr.append(i[0])\n",
        "      clusBr.append(i[1])\n",
        "      clusterfix.append(1)\n",
        "    elif min(hitung1, hitung2) == hitung2:\n",
        "      # yellow\n",
        "      clusAy.append(i[0])\n",
        "      clusBy.append(i[1])\n",
        "      clusterfix.append(2)\n",
        "  #endfor\n",
        "\n",
        "  # a,b,c untuk menyimpan centroid sebelumnya\n",
        "  a = centroid1\n",
        "  b = centroid2\n",
        "\n",
        "  # Update centroid\n",
        "  centroid1 = [sum(clusAr)/len(clusAr), sum(clusBr)/len(clusBr)]\n",
        "  centroid2 = [sum(clusAy)/len(clusAy), sum(clusBy)/len(clusBy)]\n",
        "\n",
        "  # Cek apakah centroid tetap atau berubah\n",
        "  if (centroid1 == a) and (centroid2 == b):\n",
        "      cek = True\n",
        "\n",
        "#endwhile\n",
        "\n",
        "# plt.scatter(dx, dy, s = 10, c = 'b')\n",
        "plt.scatter(clusAr, clusBr, c='r')\n",
        "plt.scatter(clusAy, clusBy, c='y')\n",
        "# plt.scatter(centroid1[0], centroid1[1], c='blue')\n",
        "# plt.scatter(centroid2[0], centroid2[1], c='black')\n",
        "plt.xlabel('manufacturer')\n",
        "plt.ylabel('paint_color')"
      ],
      "execution_count": 255,
      "outputs": [
        {
          "output_type": "execute_result",
          "data": {
            "text/plain": [
              "Text(0, 0.5, 'paint_color')"
            ]
          },
          "metadata": {
            "tags": []
          },
          "execution_count": 255
        },
        {
          "output_type": "display_data",
          "data": {
            "image/png": "[encoded data removed]",
            "text/plain": [
              "<Figure size 600x400 with 1 Axes>"
            ]
          },
          "metadata": {
            "tags": []
          }
        }
      ]
    },
    {
      "cell_type": "code",
      "metadata": {
        "colab_type": "code",
        "outputId": "f1dd51de-90d3-421b-c5f2-07faf1eccfe4",
        "id": "9GFZOMnzSR5D",
        "colab": {
          "base_uri": "https://localhost:8080/",
          "height": 34
        }
      },
      "source": [
        "print(len(clusterfix))"
      ],
      "execution_count": 0,
      "outputs": [
        {
          "output_type": "stream",
          "text": [
            "20001\n"
          ],
          "name": "stdout"
        }
      ]
    },
    {
      "cell_type": "code",
      "metadata": {
        "id": "GGTzh_R66TVN",
        "colab_type": "code",
        "colab": {}
      },
      "source": [
        ""
      ],
      "execution_count": 0,
      "outputs": []
    },
    {
      "cell_type": "markdown",
      "metadata": {
        "colab_type": "text",
        "id": "HjHzExDj6TkF"
      },
      "source": [
        "### Evaluasi"
      ]
    },
    {
      "cell_type": "code",
      "metadata": {
        "colab_type": "code",
        "outputId": "855fc718-d88d-4b20-ab41-9511928261b4",
        "id": "C0-rkFQ46TkG",
        "colab": {
          "base_uri": "https://localhost:8080/",
          "height": 68
        }
      },
      "source": [
        "# Menggunakan SSE\n",
        "#centroid1 red\n",
        "jumlah1 = 0\n",
        "for i in range(len(clusAr)):\n",
        "  jarakcentro = (clusAr[i]-centroid1[0])**2 + (clusBr[i]-centroid1[1])**2\n",
        "  jumlah1 = jumlah1 + jarakcentro\n",
        "print(jumlah1)\n",
        "#centroid2 yellow\n",
        "jumlah2 = 0\n",
        "for i in range(len(clusAy)):\n",
        "  jarakcentro = (clusAy[i]-centroid2[0])**2 + (clusBy[i]-centroid2[1])**2\n",
        "  jumlah2 = jumlah2 + jarakcentro\n",
        "print(jumlah2)\n",
        "SSE = jumlah1 + jumlah2\n",
        "print(\"SSE =\", SSE)"
      ],
      "execution_count": 252,
      "outputs": [
        {
          "output_type": "stream",
          "text": [
            "1027.5087853213727\n",
            "832.930422011786\n",
            "SSE = 1860.4392073331587\n"
          ],
          "name": "stdout"
        }
      ]
    },
    {
      "cell_type": "code",
      "metadata": {
        "id": "V-4vXIPp6WgO",
        "colab_type": "code",
        "colab": {}
      },
      "source": [
        ""
      ],
      "execution_count": 0,
      "outputs": []
    }
  ]
}